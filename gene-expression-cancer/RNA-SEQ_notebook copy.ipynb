{
 "cells": [
  {
   "cell_type": "code",
   "execution_count": 3,
   "id": "17dcc100",
   "metadata": {},
   "outputs": [
    {
     "name": "stdout",
     "output_type": "stream",
     "text": [
      "Data shape: (801, 20531)\n",
      "Labels shape: (801, 1)\n",
      "\n",
      "Combined shape: (801, 20532)\n",
      "\n",
      "DataFrame Head:\n",
      "          gene_0    gene_1    gene_2    gene_3     gene_4  gene_5    gene_6  \\\n",
      "sample_0     0.0  2.017209  3.265527  5.478487  10.431999     0.0  7.175175   \n",
      "sample_1     0.0  0.592732  1.588421  7.586157   9.623011     0.0  6.816049   \n",
      "sample_2     0.0  3.511759  4.327199  6.881787   9.870730     0.0  6.972130   \n",
      "sample_3     0.0  3.663618  4.507649  6.659068  10.196184     0.0  7.843375   \n",
      "sample_4     0.0  2.655741  2.821547  6.539454   9.738265     0.0  6.566967   \n",
      "\n",
      "            gene_7  gene_8  gene_9  ...  gene_20522  gene_20523  gene_20524  \\\n",
      "sample_0  0.591871     0.0     0.0  ...    8.210257    9.723516    7.220030   \n",
      "sample_1  0.000000     0.0     0.0  ...    7.323865    9.740931    6.256586   \n",
      "sample_2  0.452595     0.0     0.0  ...    8.127123   10.908640    5.401607   \n",
      "sample_3  0.434882     0.0     0.0  ...    8.792959   10.141520    8.942805   \n",
      "sample_4  0.360982     0.0     0.0  ...    8.891425   10.373790    7.181162   \n",
      "\n",
      "          gene_20525  gene_20526  gene_20527  gene_20528  gene_20529  \\\n",
      "sample_0    9.119813   12.003135    9.650743    8.921326    5.286759   \n",
      "sample_1    8.381612   12.674552   10.517059    9.397854    2.094168   \n",
      "sample_2    9.911597    9.045255    9.788359   10.090470    1.683023   \n",
      "sample_3    9.601208   11.392682    9.694814    9.684365    3.292001   \n",
      "sample_4    9.846910   11.922439    9.217749    9.461191    5.110372   \n",
      "\n",
      "          gene_20530  Class  \n",
      "sample_0         0.0   PRAD  \n",
      "sample_1         0.0   LUAD  \n",
      "sample_2         0.0   PRAD  \n",
      "sample_3         0.0   PRAD  \n",
      "sample_4         0.0   BRCA  \n",
      "\n",
      "[5 rows x 20532 columns]\n",
      "\n",
      "DataFrame Info:\n",
      "<class 'pandas.core.frame.DataFrame'>\n",
      "Index: 801 entries, sample_0 to sample_800\n",
      "Columns: 20532 entries, gene_0 to Class\n",
      "dtypes: float64(20531), object(1)\n",
      "memory usage: 125.5+ MB\n",
      "None\n",
      "\n",
      "Descriptive Statistics:\n",
      "           gene_0      gene_1      gene_2      gene_3      gene_4  gene_5  \\\n",
      "count  801.000000  801.000000  801.000000  801.000000  801.000000   801.0   \n",
      "mean     0.026642    3.010909    3.095350    6.722305    9.813612     0.0   \n",
      "std      0.136850    1.200828    1.065601    0.638819    0.506537     0.0   \n",
      "min      0.000000    0.000000    0.000000    5.009284    8.435999     0.0   \n",
      "25%      0.000000    2.299039    2.390365    6.303346    9.464466     0.0   \n",
      "50%      0.000000    3.143687    3.127006    6.655893    9.791599     0.0   \n",
      "75%      0.000000    3.883484    3.802534    7.038447   10.142324     0.0   \n",
      "max      1.482332    6.237034    6.063484   10.129528   11.355621     0.0   \n",
      "\n",
      "           gene_6      gene_7      gene_8      gene_9  ...  gene_20521  \\\n",
      "count  801.000000  801.000000  801.000000  801.000000  ...  801.000000   \n",
      "mean     7.405509    0.499882    0.016744    0.013428  ...    5.896573   \n",
      "std      1.108237    0.508799    0.133635    0.204722  ...    0.746399   \n",
      "min      3.930747    0.000000    0.000000    0.000000  ...    2.853517   \n",
      "25%      6.676042    0.000000    0.000000    0.000000  ...    5.454926   \n",
      "50%      7.450114    0.443076    0.000000    0.000000  ...    5.972582   \n",
      "75%      8.121984    0.789354    0.000000    0.000000  ...    6.411292   \n",
      "max     10.718190    2.779008    1.785592    4.067604  ...    7.771054   \n",
      "\n",
      "       gene_20522  gene_20523  gene_20524  gene_20525  gene_20526  gene_20527  \\\n",
      "count  801.000000  801.000000  801.000000  801.000000  801.000000  801.000000   \n",
      "mean     8.765891   10.056252    4.847727    9.741987   11.742228   10.155271   \n",
      "std      0.603176    0.379278    2.382728    0.533898    0.670371    0.580569   \n",
      "min      6.678368    8.669456    0.000000    7.974942    9.045255    7.530141   \n",
      "25%      8.383834    9.826027    3.130750    9.400747   11.315857    9.836525   \n",
      "50%      8.784144   10.066385    5.444935    9.784524   11.749802   10.191207   \n",
      "75%      9.147136   10.299025    6.637412   10.082269   12.177852   10.578561   \n",
      "max     11.105431   11.318243    9.207495   11.811632   13.715361   11.675653   \n",
      "\n",
      "       gene_20528  gene_20529  gene_20530  \n",
      "count  801.000000  801.000000  801.000000  \n",
      "mean     9.590726    5.528177    0.095411  \n",
      "std      0.563849    2.073859    0.364529  \n",
      "min      7.864533    0.593975    0.000000  \n",
      "25%      9.244219    4.092385    0.000000  \n",
      "50%      9.566511    5.218618    0.000000  \n",
      "75%      9.917888    6.876382    0.000000  \n",
      "max     12.813320   11.205836    5.254133  \n",
      "\n",
      "[8 rows x 20531 columns]\n",
      "\n",
      "Data Types:\n",
      "float64    20531\n",
      "object         1\n",
      "Name: count, dtype: int64\n",
      "\n",
      "Missing Values:\n",
      "0\n",
      "\n",
      "Duplicated Rows:\n",
      "0\n",
      "\n",
      "Negative Values in Numeric Columns:\n",
      "0\n",
      "\n",
      "Updated Data Types (after downcasting):\n",
      "float32    20531\n",
      "object         1\n",
      "Name: count, dtype: int64\n"
     ]
    }
   ],
   "source": [
    "# Gene Expression Cancer RNA-Seq - Initial Data Inspection\n",
    "# --------------------------------------------------------\n",
    "# Goal: Explore high-dimensional RNA-Seq dataset for cancer classification.\n",
    "\n",
    "import pandas as pd\n",
    "import numpy as np\n",
    "import matplotlib.pyplot as plt\n",
    "import seaborn as sns\n",
    "import os\n",
    "\n",
    "os.makedirs(\"figures\", exist_ok=True)\n",
    "\n",
    "np.random.seed(42)\n",
    "\n",
    "# ============================\n",
    "# 1. Data Acquisition & Loading\n",
    "# ============================\n",
    "data_path = \"/Users/jeremygoetschy/Projects/RNA-SEQ/Raw/data.csv\"\n",
    "labels_path = \"/Users/jeremygoetschy/Projects/RNA-SEQ/Raw/labels.csv\"\n",
    "\n",
    "data = pd.read_csv(data_path, index_col=0)  # gene expression matrix\n",
    "labels = pd.read_csv(labels_path, index_col=0)  # target labels\n",
    "\n",
    "print(f\"Data shape: {data.shape}\")  # (801, 20531)\n",
    "print(f\"Labels shape: {labels.shape}\")  # (801, 1)\n",
    "\n",
    "# Merge data & labels\n",
    "df = data.join(labels, how=\"inner\")\n",
    "\n",
    "# ============================\n",
    "# 2. Initial Inspection\n",
    "# ============================\n",
    "print(f\"\\nCombined shape: {df.shape}\")  # (801, 20532)\n",
    "print(\"\\nDataFrame Head:\")\n",
    "print(df.head())\n",
    "\n",
    "print(\"\\nDataFrame Info:\")\n",
    "print(df.info())\n",
    "\n",
    "print(\"\\nDescriptive Statistics:\")\n",
    "print(df.describe())\n",
    "\n",
    "print(\"\\nData Types:\")\n",
    "print(df.dtypes.value_counts())\n",
    "\n",
    "print(\"\\nMissing Values:\")\n",
    "print(df.isnull().sum().sum())  # Expect 0\n",
    "\n",
    "print(\"\\nDuplicated Rows:\")\n",
    "print(df.duplicated().sum())  # Expect 0\n",
    "\n",
    "print(\"\\nNegative Values in Numeric Columns:\")\n",
    "print((df.select_dtypes(include=[np.number]) < 0).sum().sum())  # Expect 0\n",
    "\n",
    "# ============================\n",
    "# 3. Memory Optimization\n",
    "# ============================\n",
    "df = df.astype(\n",
    "    {col: \"float32\" for col in df.select_dtypes(include=[np.float64]).columns}\n",
    ")\n",
    "print(\"\\nUpdated Data Types (after downcasting):\")\n",
    "print(df.dtypes.value_counts())\n",
    "\n",
    "# 🔎 Observations:\n",
    "# - Dataset: 801 samples, 20,531 gene expression features + 1 label column.\n",
    "# - Features are continuous (gene expression levels).\n",
    "# - Target labels are categorical (cancer types).\n",
    "# - No missing, duplicates, or negative values detected.\n",
    "# - Converted float64 → float32 to optimize memory (critical with high-dimensional data)."
   ]
  },
  {
   "cell_type": "code",
   "execution_count": 4,
   "id": "a176210a",
   "metadata": {},
   "outputs": [
    {
     "name": "stdout",
     "output_type": "stream",
     "text": [
      "\n",
      "Class counts:\n",
      "Class\n",
      "BRCA    300\n",
      "KIRC    146\n",
      "LUAD    141\n",
      "PRAD    136\n",
      "COAD     78\n",
      "Name: count, dtype: int64\n",
      "\n",
      "Class imbalance entropy: 0.939\n"
     ]
    },
    {
     "data": {
      "application/vnd.plotly.v1+json": {
       "config": {
        "plotlyServerURL": "https://plot.ly"
       },
       "data": [
        {
         "hovertemplate": "Class=%{x}<br>Count=%{y}<extra></extra>",
         "legendgroup": "",
         "marker": {
          "color": "#636efa",
          "pattern": {
           "shape": ""
          }
         },
         "name": "",
         "orientation": "v",
         "showlegend": false,
         "textposition": "auto",
         "type": "bar",
         "x": [
          "BRCA",
          "KIRC",
          "LUAD",
          "PRAD",
          "COAD"
         ],
         "xaxis": "x",
         "y": {
          "bdata": "LAGSAI0AiABOAA==",
          "dtype": "i2"
         },
         "yaxis": "y"
        }
       ],
       "layout": {
        "barmode": "relative",
        "legend": {
         "tracegroupgap": 0
        },
        "showlegend": false,
        "template": {
         "data": {
          "bar": [
           {
            "error_x": {
             "color": "#2a3f5f"
            },
            "error_y": {
             "color": "#2a3f5f"
            },
            "marker": {
             "line": {
              "color": "#E5ECF6",
              "width": 0.5
             },
             "pattern": {
              "fillmode": "overlay",
              "size": 10,
              "solidity": 0.2
             }
            },
            "type": "bar"
           }
          ],
          "barpolar": [
           {
            "marker": {
             "line": {
              "color": "#E5ECF6",
              "width": 0.5
             },
             "pattern": {
              "fillmode": "overlay",
              "size": 10,
              "solidity": 0.2
             }
            },
            "type": "barpolar"
           }
          ],
          "carpet": [
           {
            "aaxis": {
             "endlinecolor": "#2a3f5f",
             "gridcolor": "white",
             "linecolor": "white",
             "minorgridcolor": "white",
             "startlinecolor": "#2a3f5f"
            },
            "baxis": {
             "endlinecolor": "#2a3f5f",
             "gridcolor": "white",
             "linecolor": "white",
             "minorgridcolor": "white",
             "startlinecolor": "#2a3f5f"
            },
            "type": "carpet"
           }
          ],
          "choropleth": [
           {
            "colorbar": {
             "outlinewidth": 0,
             "ticks": ""
            },
            "type": "choropleth"
           }
          ],
          "contour": [
           {
            "colorbar": {
             "outlinewidth": 0,
             "ticks": ""
            },
            "colorscale": [
             [
              0,
              "#0d0887"
             ],
             [
              0.1111111111111111,
              "#46039f"
             ],
             [
              0.2222222222222222,
              "#7201a8"
             ],
             [
              0.3333333333333333,
              "#9c179e"
             ],
             [
              0.4444444444444444,
              "#bd3786"
             ],
             [
              0.5555555555555556,
              "#d8576b"
             ],
             [
              0.6666666666666666,
              "#ed7953"
             ],
             [
              0.7777777777777778,
              "#fb9f3a"
             ],
             [
              0.8888888888888888,
              "#fdca26"
             ],
             [
              1,
              "#f0f921"
             ]
            ],
            "type": "contour"
           }
          ],
          "contourcarpet": [
           {
            "colorbar": {
             "outlinewidth": 0,
             "ticks": ""
            },
            "type": "contourcarpet"
           }
          ],
          "heatmap": [
           {
            "colorbar": {
             "outlinewidth": 0,
             "ticks": ""
            },
            "colorscale": [
             [
              0,
              "#0d0887"
             ],
             [
              0.1111111111111111,
              "#46039f"
             ],
             [
              0.2222222222222222,
              "#7201a8"
             ],
             [
              0.3333333333333333,
              "#9c179e"
             ],
             [
              0.4444444444444444,
              "#bd3786"
             ],
             [
              0.5555555555555556,
              "#d8576b"
             ],
             [
              0.6666666666666666,
              "#ed7953"
             ],
             [
              0.7777777777777778,
              "#fb9f3a"
             ],
             [
              0.8888888888888888,
              "#fdca26"
             ],
             [
              1,
              "#f0f921"
             ]
            ],
            "type": "heatmap"
           }
          ],
          "histogram": [
           {
            "marker": {
             "pattern": {
              "fillmode": "overlay",
              "size": 10,
              "solidity": 0.2
             }
            },
            "type": "histogram"
           }
          ],
          "histogram2d": [
           {
            "colorbar": {
             "outlinewidth": 0,
             "ticks": ""
            },
            "colorscale": [
             [
              0,
              "#0d0887"
             ],
             [
              0.1111111111111111,
              "#46039f"
             ],
             [
              0.2222222222222222,
              "#7201a8"
             ],
             [
              0.3333333333333333,
              "#9c179e"
             ],
             [
              0.4444444444444444,
              "#bd3786"
             ],
             [
              0.5555555555555556,
              "#d8576b"
             ],
             [
              0.6666666666666666,
              "#ed7953"
             ],
             [
              0.7777777777777778,
              "#fb9f3a"
             ],
             [
              0.8888888888888888,
              "#fdca26"
             ],
             [
              1,
              "#f0f921"
             ]
            ],
            "type": "histogram2d"
           }
          ],
          "histogram2dcontour": [
           {
            "colorbar": {
             "outlinewidth": 0,
             "ticks": ""
            },
            "colorscale": [
             [
              0,
              "#0d0887"
             ],
             [
              0.1111111111111111,
              "#46039f"
             ],
             [
              0.2222222222222222,
              "#7201a8"
             ],
             [
              0.3333333333333333,
              "#9c179e"
             ],
             [
              0.4444444444444444,
              "#bd3786"
             ],
             [
              0.5555555555555556,
              "#d8576b"
             ],
             [
              0.6666666666666666,
              "#ed7953"
             ],
             [
              0.7777777777777778,
              "#fb9f3a"
             ],
             [
              0.8888888888888888,
              "#fdca26"
             ],
             [
              1,
              "#f0f921"
             ]
            ],
            "type": "histogram2dcontour"
           }
          ],
          "mesh3d": [
           {
            "colorbar": {
             "outlinewidth": 0,
             "ticks": ""
            },
            "type": "mesh3d"
           }
          ],
          "parcoords": [
           {
            "line": {
             "colorbar": {
              "outlinewidth": 0,
              "ticks": ""
             }
            },
            "type": "parcoords"
           }
          ],
          "pie": [
           {
            "automargin": true,
            "type": "pie"
           }
          ],
          "scatter": [
           {
            "fillpattern": {
             "fillmode": "overlay",
             "size": 10,
             "solidity": 0.2
            },
            "type": "scatter"
           }
          ],
          "scatter3d": [
           {
            "line": {
             "colorbar": {
              "outlinewidth": 0,
              "ticks": ""
             }
            },
            "marker": {
             "colorbar": {
              "outlinewidth": 0,
              "ticks": ""
             }
            },
            "type": "scatter3d"
           }
          ],
          "scattercarpet": [
           {
            "marker": {
             "colorbar": {
              "outlinewidth": 0,
              "ticks": ""
             }
            },
            "type": "scattercarpet"
           }
          ],
          "scattergeo": [
           {
            "marker": {
             "colorbar": {
              "outlinewidth": 0,
              "ticks": ""
             }
            },
            "type": "scattergeo"
           }
          ],
          "scattergl": [
           {
            "marker": {
             "colorbar": {
              "outlinewidth": 0,
              "ticks": ""
             }
            },
            "type": "scattergl"
           }
          ],
          "scattermap": [
           {
            "marker": {
             "colorbar": {
              "outlinewidth": 0,
              "ticks": ""
             }
            },
            "type": "scattermap"
           }
          ],
          "scattermapbox": [
           {
            "marker": {
             "colorbar": {
              "outlinewidth": 0,
              "ticks": ""
             }
            },
            "type": "scattermapbox"
           }
          ],
          "scatterpolar": [
           {
            "marker": {
             "colorbar": {
              "outlinewidth": 0,
              "ticks": ""
             }
            },
            "type": "scatterpolar"
           }
          ],
          "scatterpolargl": [
           {
            "marker": {
             "colorbar": {
              "outlinewidth": 0,
              "ticks": ""
             }
            },
            "type": "scatterpolargl"
           }
          ],
          "scatterternary": [
           {
            "marker": {
             "colorbar": {
              "outlinewidth": 0,
              "ticks": ""
             }
            },
            "type": "scatterternary"
           }
          ],
          "surface": [
           {
            "colorbar": {
             "outlinewidth": 0,
             "ticks": ""
            },
            "colorscale": [
             [
              0,
              "#0d0887"
             ],
             [
              0.1111111111111111,
              "#46039f"
             ],
             [
              0.2222222222222222,
              "#7201a8"
             ],
             [
              0.3333333333333333,
              "#9c179e"
             ],
             [
              0.4444444444444444,
              "#bd3786"
             ],
             [
              0.5555555555555556,
              "#d8576b"
             ],
             [
              0.6666666666666666,
              "#ed7953"
             ],
             [
              0.7777777777777778,
              "#fb9f3a"
             ],
             [
              0.8888888888888888,
              "#fdca26"
             ],
             [
              1,
              "#f0f921"
             ]
            ],
            "type": "surface"
           }
          ],
          "table": [
           {
            "cells": {
             "fill": {
              "color": "#EBF0F8"
             },
             "line": {
              "color": "white"
             }
            },
            "header": {
             "fill": {
              "color": "#C8D4E3"
             },
             "line": {
              "color": "white"
             }
            },
            "type": "table"
           }
          ]
         },
         "layout": {
          "annotationdefaults": {
           "arrowcolor": "#2a3f5f",
           "arrowhead": 0,
           "arrowwidth": 1
          },
          "autotypenumbers": "strict",
          "coloraxis": {
           "colorbar": {
            "outlinewidth": 0,
            "ticks": ""
           }
          },
          "colorscale": {
           "diverging": [
            [
             0,
             "#8e0152"
            ],
            [
             0.1,
             "#c51b7d"
            ],
            [
             0.2,
             "#de77ae"
            ],
            [
             0.3,
             "#f1b6da"
            ],
            [
             0.4,
             "#fde0ef"
            ],
            [
             0.5,
             "#f7f7f7"
            ],
            [
             0.6,
             "#e6f5d0"
            ],
            [
             0.7,
             "#b8e186"
            ],
            [
             0.8,
             "#7fbc41"
            ],
            [
             0.9,
             "#4d9221"
            ],
            [
             1,
             "#276419"
            ]
           ],
           "sequential": [
            [
             0,
             "#0d0887"
            ],
            [
             0.1111111111111111,
             "#46039f"
            ],
            [
             0.2222222222222222,
             "#7201a8"
            ],
            [
             0.3333333333333333,
             "#9c179e"
            ],
            [
             0.4444444444444444,
             "#bd3786"
            ],
            [
             0.5555555555555556,
             "#d8576b"
            ],
            [
             0.6666666666666666,
             "#ed7953"
            ],
            [
             0.7777777777777778,
             "#fb9f3a"
            ],
            [
             0.8888888888888888,
             "#fdca26"
            ],
            [
             1,
             "#f0f921"
            ]
           ],
           "sequentialminus": [
            [
             0,
             "#0d0887"
            ],
            [
             0.1111111111111111,
             "#46039f"
            ],
            [
             0.2222222222222222,
             "#7201a8"
            ],
            [
             0.3333333333333333,
             "#9c179e"
            ],
            [
             0.4444444444444444,
             "#bd3786"
            ],
            [
             0.5555555555555556,
             "#d8576b"
            ],
            [
             0.6666666666666666,
             "#ed7953"
            ],
            [
             0.7777777777777778,
             "#fb9f3a"
            ],
            [
             0.8888888888888888,
             "#fdca26"
            ],
            [
             1,
             "#f0f921"
            ]
           ]
          },
          "colorway": [
           "#636efa",
           "#EF553B",
           "#00cc96",
           "#ab63fa",
           "#FFA15A",
           "#19d3f3",
           "#FF6692",
           "#B6E880",
           "#FF97FF",
           "#FECB52"
          ],
          "font": {
           "color": "#2a3f5f"
          },
          "geo": {
           "bgcolor": "white",
           "lakecolor": "white",
           "landcolor": "#E5ECF6",
           "showlakes": true,
           "showland": true,
           "subunitcolor": "white"
          },
          "hoverlabel": {
           "align": "left"
          },
          "hovermode": "closest",
          "mapbox": {
           "style": "light"
          },
          "paper_bgcolor": "white",
          "plot_bgcolor": "#E5ECF6",
          "polar": {
           "angularaxis": {
            "gridcolor": "white",
            "linecolor": "white",
            "ticks": ""
           },
           "bgcolor": "#E5ECF6",
           "radialaxis": {
            "gridcolor": "white",
            "linecolor": "white",
            "ticks": ""
           }
          },
          "scene": {
           "xaxis": {
            "backgroundcolor": "#E5ECF6",
            "gridcolor": "white",
            "gridwidth": 2,
            "linecolor": "white",
            "showbackground": true,
            "ticks": "",
            "zerolinecolor": "white"
           },
           "yaxis": {
            "backgroundcolor": "#E5ECF6",
            "gridcolor": "white",
            "gridwidth": 2,
            "linecolor": "white",
            "showbackground": true,
            "ticks": "",
            "zerolinecolor": "white"
           },
           "zaxis": {
            "backgroundcolor": "#E5ECF6",
            "gridcolor": "white",
            "gridwidth": 2,
            "linecolor": "white",
            "showbackground": true,
            "ticks": "",
            "zerolinecolor": "white"
           }
          },
          "shapedefaults": {
           "line": {
            "color": "#2a3f5f"
           }
          },
          "ternary": {
           "aaxis": {
            "gridcolor": "white",
            "linecolor": "white",
            "ticks": ""
           },
           "baxis": {
            "gridcolor": "white",
            "linecolor": "white",
            "ticks": ""
           },
           "bgcolor": "#E5ECF6",
           "caxis": {
            "gridcolor": "white",
            "linecolor": "white",
            "ticks": ""
           }
          },
          "title": {
           "x": 0.05
          },
          "xaxis": {
           "automargin": true,
           "gridcolor": "white",
           "linecolor": "white",
           "ticks": "",
           "title": {
            "standoff": 15
           },
           "zerolinecolor": "white",
           "zerolinewidth": 2
          },
          "yaxis": {
           "automargin": true,
           "gridcolor": "white",
           "linecolor": "white",
           "ticks": "",
           "title": {
            "standoff": 15
           },
           "zerolinecolor": "white",
           "zerolinewidth": 2
          }
         }
        },
        "title": {
         "text": "Class Distribution"
        },
        "xaxis": {
         "anchor": "y",
         "domain": [
          0,
          1
         ],
         "title": {
          "text": "Class"
         }
        },
        "yaxis": {
         "anchor": "x",
         "domain": [
          0,
          1
         ],
         "title": {
          "text": "Count"
         }
        }
       }
      }
     },
     "metadata": {},
     "output_type": "display_data"
    },
    {
     "name": "stdout",
     "output_type": "stream",
     "text": [
      "\n",
      "Skewness of gene expression levels:\n",
      "Mean: 0.92, Median: 0.15\n",
      "Number of high correlations > 0.8: 3\n"
     ]
    }
   ],
   "source": [
    "# Gene Expression Cancer RNA-Seq - Exploratory Data Analysis (EDA)\n",
    "# ----------------------------------------------------------------\n",
    "# Goal: Explore target distribution, gene expression distributions,\n",
    "#       skewness, correlations, and dimensionality insights.\n",
    "\n",
    "import plotly.express as px\n",
    "from scipy.stats import entropy, skew\n",
    "import matplotlib.pyplot as plt\n",
    "import seaborn as sns\n",
    "\n",
    "sns.set(style=\"whitegrid\")\n",
    "\n",
    "\n",
    "# ============================\n",
    "# 1. Class Distribution\n",
    "# ============================\n",
    "class_counts = df[\"Class\"].value_counts()\n",
    "print(\"\\nClass counts:\")\n",
    "print(class_counts)\n",
    "\n",
    "# Imbalance entropy (normalized)\n",
    "class_probs = class_counts / class_counts.sum()\n",
    "imbalance_entropy = entropy(class_probs) / np.log(len(class_counts))\n",
    "print(f\"\\nClass imbalance entropy: {imbalance_entropy:.3f}\")\n",
    "# → 0.939 → Mild imbalance.\n",
    "\n",
    "fig = px.bar(\n",
    "    x=class_counts.index,\n",
    "    y=class_counts.values,\n",
    "    labels={\"x\": \"Class\", \"y\": \"Count\"},\n",
    "    title=\"Class Distribution\",\n",
    ")\n",
    "fig.update_layout(showlegend=False)\n",
    "fig.show()\n",
    "\n",
    "# 🔎 Observations:\n",
    "# - Dataset is relatively balanced across classes (entropy ~0.94).\n",
    "# - Stratified K-Folds recommended for cross-validation.\n",
    "# - SMOTE could still be applied if imbalance impacts modeling.\n",
    "\n",
    "\n",
    "# ============================\n",
    "# 2. Gene Expression Distributions\n",
    "# ============================\n",
    "sample_genes = df.drop(\"Class\", axis=1).columns[:10]  # sample 10 genes\n",
    "\n",
    "plt.figure(figsize=(12, 6))\n",
    "for i, gene in enumerate(sample_genes):\n",
    "    plt.subplot(2, 5, i + 1)\n",
    "    sns.histplot(x=df[gene], bins=30, kde=True)\n",
    "    plt.title(f\"Gene: {gene}\")\n",
    "plt.tight_layout()\n",
    "plt.savefig(\"figures/gene_expression_distributions.png\")\n",
    "plt.close()\n",
    "\n",
    "# 🔎 Observations:\n",
    "# - Gene distributions vary widely across samples.\n",
    "# - Several genes contain many zeros → potential for log1p transform before scaling.\n",
    "\n",
    "\n",
    "# ============================\n",
    "# 3. Skewness of Gene Expressions\n",
    "# ============================\n",
    "skewness = df.drop(\"Class\", axis=1).apply(skew)\n",
    "print(\"\\nSkewness of gene expression levels:\")\n",
    "print(f\"Mean: {skewness.mean():.2f}, Median: {skewness.median():.2f}\")\n",
    "\n",
    "plt.figure(figsize=(12, 6))\n",
    "sns.histplot(data=skewness, bins=30, kde=True)\n",
    "plt.title(\"Skewness Distribution of Gene Expression Levels\")\n",
    "plt.xlabel(\"Skewness\")\n",
    "plt.ylabel(\"Density\")\n",
    "plt.savefig(\"figures/skewness_distribution.png\")\n",
    "plt.close()\n",
    "\n",
    "# 🔎 Observations:\n",
    "# - Average skewness = 0.92 (positively skewed).\n",
    "# - Median skewness = 0.15 → majority of genes are close to symmetric, but\n",
    "#   some have heavy right tails.\n",
    "# - Suggests log-transformation could help normalization.\n",
    "\n",
    "\n",
    "# ============================\n",
    "# 4. Correlation Analysis\n",
    "# ============================\n",
    "sample_genes = df.drop(\"Class\", axis=1).columns[:100]  # sample 100 genes\n",
    "corr_matrix = df[sample_genes].corr(method=\"spearman\")  # robust to non-linearities\n",
    "\n",
    "plt.figure(figsize=(12, 10))\n",
    "sns.heatmap(\n",
    "    corr_matrix,\n",
    "    cmap=\"coolwarm\",\n",
    "    annot=False,\n",
    "    fmt=\".2f\",\n",
    "    vmin=-1,\n",
    "    vmax=1,\n",
    "    square=True,\n",
    "    cbar_kws={\"shrink\": 0.8},\n",
    ")\n",
    "plt.title(\"Correlation Heatmap of 100 Sampled Genes\")\n",
    "plt.savefig(\"figures/correlation_heatmap.png\")\n",
    "plt.close()\n",
    "\n",
    "high_corr = (corr_matrix.abs() > 0.8).sum().sum() - len(corr_matrix)\n",
    "print(f\"Number of high correlations > 0.8: {high_corr//2}\")\n",
    "\n",
    "# 🔎 Observations:\n",
    "# - Only a small number of gene pairs show high correlation (>0.8).\n",
    "# - However, given the high dimensionality (~20k features), multicollinearity is expected.\n",
    "# - Dimensionality reduction (PCA, t-SNE, autoencoders) may help extract signal."
   ]
  },
  {
   "cell_type": "code",
   "execution_count": 5,
   "id": "2b425c8b",
   "metadata": {},
   "outputs": [
    {
     "name": "stdout",
     "output_type": "stream",
     "text": [
      "PCA explained variance ratio: 0.193\n"
     ]
    },
    {
     "data": {
      "application/vnd.plotly.v1+json": {
       "config": {
        "plotlyServerURL": "https://plot.ly"
       },
       "data": [
        {
         "hovertemplate": "color=PRAD<br>PCA 1=%{x}<br>PCA 2=%{y}<extra></extra>",
         "legendgroup": "PRAD",
         "marker": {
          "color": "#636efa",
          "symbol": "circle"
         },
         "mode": "markers",
         "name": "PRAD",
         "orientation": "v",
         "showlegend": true,
         "type": "scatter",
         "x": {
          "bdata": "vMllwsOwjMKDpUTCeGaZwZ7GgEEFiN/BvHZtQCq54cG9KtrBG8evwSnYzsCaksHBP0+kwf0XGcKif+fBkYdLwZUVtcG+cNbBJWZ1wUl3/8E2ITbC/Q3qwSYRk0F7FpXCQJegwQ1sLcH9x9XASkkGwonCFMLii7LAdwDJwYDyq8HqtzjCoIhKP+C2JcEwyiBBO3RTwptfx0GL7iLBqQ6BwQniOsKdi6fBVpU6wbN3A8KyxEnBw5uIQbUSFMIWFKhBej0FwhwNpMEbRTHClQQ0wS5wN8HaGUDCOeBxwkVKjcFvZTzBQEHxwRwImUFGCefBhNX1wRknhcGauFbC4iJtwVB7p8GhAdvBf+8gwgbyDMIdKxrCAvE9wZYV5MBfZxbBleETwY+irMF0xMy+4ldbwd8a7sGXCsXBQUhvwlc5YcL1YlfBn2mVwHe6acFQFoXBFGNywXBLIcEhBmrBu+IjwmtRikD8+IRBYa++QNbFFsLRkFDBzAEIwKGxhsGc2QbBCNjRQKZbhcHRe9TBrYnywfYIHEHI7fnBNNl+woXUa8LvZIrBh3NxQEMLI8JKf8/ATLcFwerNE8DYhmPCxbgKwpckkMHuo6BAy0SzQHDUzMFhA7/B0w6Fv4lhzMBWXabBTmdFwYV0YcIbHE3CgJNywZlPJcA5ayBBnP4XwGEbt0G2UgDCbg2UwHGs6sFUUM3CCpfHwVu6HsG2hPbBtcGywQ==",
          "dtype": "f4"
         },
         "xaxis": "x",
         "y": {
          "bdata": "ftG+wg5umkEGqhNBSby9wRkiAsJ5FCrA7zQ8wSKGHkA4MQvCm6cAwjJrucAmj7nCWPiSwebUVUGTrqy/3q+gP22X5cBic5HCYqvOwWSWvsGMZSvCK1tJwY4v20E51drCQ7ivwYbrKsFL6jTCg6owwq8rzMEwUJvCIBWsQC/HKsJ5d8zCvlpEwXokncFyiV3BQ249wGJC3cBmyy9CHdMRQlUwB8FcpDFAYQUHwqlJ3MFYYQlCnvA3QEziA8LQeYrA+0KhwS2KmL9I8QzDroSRQdqWgcGLxz/B4xMKwwnF38Gi9x7B/vv9wXrW+kEQbQNAI7DawEmhd8HCG4bB3BL4wfK8B8L9TMnBTPqwwcJwz0DrnDzCOwQpwrANOEKvj5/AZEEOwjcbOMFZ2uJBVBGCwQsqc8FU6nE/JWe1wlkR2sGHvY5BSBhuwSA8GMGx3gBBg6/CQfXyokEqALxBawUJwi1NdkEll7lByZaTQcVxbcK1eoLAZtdSQQ8bxUFdrAXCrieYQFik8MGXRJW+DQX7QIK9y0Dqlsy+f+8cwuNje8IKyJbB0i7SwWOCGsJvXczBFIWKwbsjnUGPLxDBIKsPws9e30EJ4ylCm6MyQmbBJcHe7cjB4nwZweDnzMEP7PrBOMkePx9hv8JOn13BNmicv4882sETRyrB2DCgwbk+D0Iy0aXApXo5QXScCsJ4sb/CR7MeQoYKt0FWGQbCsaaBwA==",
          "dtype": "f4"
         },
         "yaxis": "y"
        },
        {
         "hovertemplate": "color=LUAD<br>PCA 1=%{x}<br>PCA 2=%{y}<extra></extra>",
         "legendgroup": "LUAD",
         "marker": {
          "color": "#EF553B",
          "symbol": "circle"
         },
         "mode": "markers",
         "name": "LUAD",
         "orientation": "v",
         "showlegend": true,
         "type": "scatter",
         "x": {
          "bdata": "61qHwUQkNUDE5VbANboBQiwm4EFpXg7BrcnywUf/ccH509dAblmzQLxQ0cFXJYDBYTCuwYy9u8EzZTVAophLwAmU3kDq/5XBYyQbwh4jKUKgrCNCazs/QImUCsI8DKJByup7wc3hLULyCpBBJkHYQF8jED+MaOa+9rZ1vne83sGDnQrB9HBlQekoD8GGiP2/sBBJwjCh88AfoL3BqKQ9PzMGjkEuhV9BYUiKQYybjkB+ucVB/JGbQBrrScLtaZ8/TFUCQqeGoME/ppVB8BIewU9ZV8HDskDBg56HwKJpnME6BlbCL8wSwcZURkL/lAtC7EGJwbrvSsJxWedAl7gfQVZMR0D0we/AvpZ+wThFIUIih++/C1CIQWUClsHFXZjBY7z0wXYzE0GiUnhAHkU3Qc8wi0EI3WBAHnwxQqDV1MHjItNBd3bnQRSmrMEVUL9Bv61Hwk/sQ8JiMX/BsjGawd6DMsJGx6TBwa7TQVsX+0Aafj7BeIPqwf6qwUHGz3DB6WjpwUY4JEFYrMjBSXvswbLCD0Hj40zBwpbXwCh0qEDW7PLBEljqwV0n70Co0mHBLPZMQWvlOsCOapPA6EGewV66yUHmp6jAEiyMwQUeoUGTbwHAwGk6QYwN8MGpmlhBzDbAwOsKx0HFTvA/KoR3wEIANT//Ip/Astg4QJGwoUDDnx5BuJs0wV4XkUEYnJHB5bRNQVmlD8IdWijBfCQoQcqwGMK3dCTA7tXNwT6S4kEIU+vB",
          "dtype": "f4"
         },
         "xaxis": "x",
         "y": {
          "bdata": "quQ7vwFrxz83t8JAsGHcvvxiysCW5ltByoO1wQDNRcAxGq3BDRGPQB4mAsELhAZAounawV3K1sHyPb5BQbLoQCMNYcDO1MHBhUPXQcbzgsFm4a5Bcbg/wWbaf8EL/5RBNITFQOehCEE/qKrBo/aRQJzMjT+CCcq+GJWvQHRpwcHTSBFAKKD3P3xc7sFo6qrBfRJtwhWUO8K2jzLCoYzpwU1nhMFjwErBhMM4waOCH0BPoTJB4zLkP4XZucI5+PxBFuoLv802oMHSpNRByWq6QUALTMJ3ITlBVN6pv9ptRcHZ3M7BVlepwQiehkJkgMDBg2E1wHB+RcKDhVjBToF/QceIqsBfvhnC9FysQYdm1j565lJB8faKwZpGccEaWuLBvYP/QV/0JMEDzTHAmW5jQTchmUHNeU5BqmADQgoKIcGt4/LAvilfQb87M8GJEP5BCddJwt7FYsJ+RSTC+ES9wQdBFkBeZexBHTP0QUqQXUFw8TzC4y8fwn8nREGBgnzBkBmxwXlD78D02QvCjVNHwkKbe8G+f0XBZxIiwurRBMI4qdTBQSlcwcpf5EGGUxnCKQzHwRcJSEFeckHBXkhXQbR9A8IjIZvBKf8+wita3UF08JrBXf/OwRo9WMEaWaLBGh4Jwm/7A8L6xQ/CQM+fQWdyP0DSwrjBIeaWwYR0rsHJJgnArw1wQboRZUGlttPBWZILQa/uV8FHtADBzJtjwco2ZcHijAVBHBK4wSf0wkGONuTB",
          "dtype": "f4"
         },
         "yaxis": "y"
        },
        {
         "hovertemplate": "color=BRCA<br>PCA 1=%{x}<br>PCA 2=%{y}<extra></extra>",
         "legendgroup": "BRCA",
         "marker": {
          "color": "#00cc96",
          "symbol": "circle"
         },
         "mode": "markers",
         "name": "BRCA",
         "orientation": "v",
         "showlegend": true,
         "type": "scatter",
         "x": {
          "bdata": "dw+RwT4WfkDY5JPB/WOnwvVLQMJV4TBBCMheQRSYisKgA3PBpNfqwcRaFMIUbszB7aNQQUA24cGeJaDBwBjMwUWiVMJI72rAX8mzwdGSL8DUBQjCJD2MwqOqhcH3Yxc/W08eQjfB9UCPqc/BwGmlwCuu6cEvYmLAJSJNQTtBqsH0dbLBFd6awNNVC8JwXw/CJRQCwhTn4kH17DzC/yYswNyQ2cDQ3ifBIvChwYptCUDRiFZBg7nCwK8roEEG65LB4sI3wiWBREBrIHDCmPPSwYE1K8K9Ap7BjGzSQPYenUEYous/kibdwfrV98CcVN7AnQiUQRoD58AWvMBB9EDnwcs3NUGfgRDCKhGywUzuisGsTBy+OF1MwaaLKEI5HY7Cogj7wJupIEIPuJvCSlaAwVWsqEBfdDfCsAuSQemwtsHl49hAVFoSwdH1ZEIAt6JBXgSbwrleRMGEFANB+ICSvxZM+8FSb5/AopiDQfVKUMI43ONBna8awkaowL8boBXCpSSeQMp8Y0D+wXPBeceswl1bsr+OnSpB1SA/wYy9EcI13CBBYGDGwS5S7kC6o9pAy/dvwfziEUFVcXC/IooGwEUeIEEioYK/DRuxQYWryMG0f6JBFagzwGpgLMJXJzdCWZIZQTU7HMGbqRPCNluOvQ0Jm8Gu0eG+lgdlwEW1CcIUdwW/94M3wRUcekEKjcXAlm6XwUCYskDoNgDC+YUJwuIkhcHbUd5BHDdKQd1lWcLP2uPAzM1hwUoUe8KLS1fC3OZWwtft4cGEGhpBHo2CQDig6sFUFwXCIxqPwpnkYkCEjqZAf8tiwmr01cFBhdhA+ZlmwrayEMK+jjjBkWn1QGujzEGp/FTBm5sTwkSgBcFsISHCR+c5wenQ8sCiegDCFOwzwT5WHsIVRXDCBEYmQe+f20Do5otBpNL4v2O7I8AQ1hdB99fowOpLlsEpjhDCUbHfwbyOSMGTwoHBlRNfQRSVp8H9uAzC1gmdwRwGoEHk9tFAMYgnQbkLWMFHZ25AakbEQJXJe77gS+HBrxSBwt+GUMFsYYvBMh/eQbQ9hcHvd55ARNmiwYjdK0FGWgBBvV28wdzEXMLiikDC6kMmwlpTqsDi9gFCjwuUwcM28EFZQtbB7k4ewldsRMGoiTTB04r7wR8M7UDkFfjBxoDmQaNO60EdY+zAHN0pwCWPkUEeOevBF6y6wV4tpED6XNY+sD4MwrXIfMEgmoxBFxhVwIjWuMFOlvfAeH98QYR7MULN4+TC1ofmwQan3MCIjR7CYS8FwmFJh8GbckhBKNhlv0gomkBAZsvBEHvVQWPLm0AjHa9BZ4gYQdpXPsGV9Z5A9kqqQMwewcIC1FdBGHbwP5nuGMFIvs7BT3XyQHVs00EwbyzCFZndwaktnD8jw7LB8FsxwglmJUAXzBvCKKEjQiQDTcKCBhjCRBzQwRIPkT9AQ8zBiW4fwgWk2MF/wLvBo8bVwBCsz8HVWb/BrDNCwYFGEMCwPWTAMF2TwXCliUCnuJ5B/IGCwWWplEH/pRtCivqJwbnA8kHeDsHA50uvQdX5AcIBOhrCwK2VweRQd8F98M9BFvGMwaYm5MG3rUbB",
          "dtype": "f4"
         },
         "xaxis": "x",
         "y": {
          "bdata": "BVBNQpN+jELoBnJB84CPwmuVEUKToThCpfztQq+D9z+dECZCkeSbQVOqZEJnWNpBdSTeQo1Mh8L2mV5Cj9zAP/lHYcI4S4pCgW10QtunmEKXmupBcnmtwVndX0J9g1BBCcWJQn5wkD92+GXBUX1bQK/tD8L8z7pCnpQRQiIIf0IusjVCxmadQjX5gEJ4a11ByppMQZnaK0ImvLjCSMFxQqgxbEJ3lo5B2FT3QX39RkJIhV9CdqwlQk+eVkIwaYlCtGGdQUhhKUKdiCzBLK6UQYHp/0ESdAtCxXiAQge2RUKyT1ZCTiFoQgPWkkKgBZdBtBHJQjAFp0D4SZ1C399uQsV8HEJcRTXCLWfsQBJVvUHgXjhCoagUQjRmHkJt4bTCNJOxQoNm9UF3YLrCSSCSQEdXRUIjWw/BMT3TQSsbUEK9wilCY5F3QZEPrkLFkBlCA3CWwlHzFkFyY79BLorPQTQOXEJRYs1BAMRoQksfC0I1sQtCb2wcQiyrF0LkAZdCi4SfQqgsj0Jpg+5B+bnYwjxFM0KzdiZCPrgaQqWBTcKS12tCJWwpQn2Yd0JZa0pCJ3VSwe9GQUKeqZtCbIl2QmrqI0JfYejAf6FkQhV1QcHmiaxC+EdzQkJVIEJjC1ZCEAOBQld3KEJJoFhA0bY5QsZbK0I01JDBJ6DzQWXDAUKLh5BC3OHnQT5fs0IPR2RCsSjuQZ3AhkKTI2tC49g1wd/QHMF33DVCXIwWQhYyh8IjhSZCDX6PQmXWVcLCuo3CXOlrQJdmOkLexJhCFUQIQnY6NkKO3EDB/qNywm5ye0JgamlCuFSAwDV9nUGxKoVCxQE3QoCYPkIXlCJCpuGUQawTyUIeZwpCALXwwfOGuEKFyxNCMfYYQku3Y0J7h2fBmLMkQjR/hkCN0B1BVxVmQjFhgkLILJJCRIhJQvTNV8FJrIFCsfpxQj+P00DC27nBQpiXQoFlb0HNZt9AP/pLQssrFUK2solBt4pnwisldkFL9H1CBMBiQiWXj0I4jIpChECBQn1JDULjnM1BJqkTQkXKEUFEU2dCiUqGQr01AEFTtY6/wwDzQRSyRUI7Tx9BV8EbQr53KUH5YCq+3T8qQrlKhkLATvhBr0IIQtklw0GNqEhClgzqwPR4ZEIjHYZC4ZwdQut3OkKcKkBCmbZAQml7hEG6JoO/C6oiQY7InEI61XxCBTdTQhW6o8H4MBVCvW0WwSH3a0JM+itCLpKBQuD2XUHmiDZCGu7jQcJ7bUI//pjCC60rwl7uhUIF2GhCVEUtQu8GTEIB+pBBYaeYQixtgkJvzW5C40OCQu7wSUIy8xBCDA5zQkKDa8GPoXtCmYIBQhiagsKClQNDIiCwQTaKVUL8n49BI8teQpG0bULw6RpCIE6eQZ8VgEIzBfNBPjW8wvT9NEKakYDBjwGZQsjqxb7rx17B9VmzwmmDZ0LuJsJB27CXQbtvgMJpJee9+z6sQcgdQ0LC6S9Cp7dGQkw9h0IC5JBC/D0xwJGILUK1ePJC5we0wEwJlUL6YzZC2OIBQk78OkKepRRA8BxJQj8GVEHcQkFA/qKQQjUAUEJ4ZKpCEfyaQq42PkLzSSlC",
          "dtype": "f4"
         },
         "yaxis": "y"
        },
        {
         "hovertemplate": "color=KIRC<br>PCA 1=%{x}<br>PCA 2=%{y}<extra></extra>",
         "legendgroup": "KIRC",
         "marker": {
          "color": "#ab63fa",
          "symbol": "circle"
         },
         "mode": "markers",
         "name": "KIRC",
         "orientation": "v",
         "showlegend": true,
         "type": "scatter",
         "x": {
          "bdata": "5NMpQh5FsUKmdapCspqqQg+cDkIL6slCqvKmQqajjEKTt9pCsMiNQp1ctEL+0HJCTMEIQvgapELFh6RCbCWVP6pKmkJ4pcJCbeuUQnwuy0I6bbhCqUfHQmbPq0LfuaZCq0u3Qn0aj0KtroBC3WscQj3zsUIvTJlC+SKvQlkn0ELoxJpCyKS5Qm0irELCOsdCorGWQki6nkKJoJ9C6yLWQo0ouEJ48sNC8GSxQqU0oEIzu6pCwHGJQmO4tEJeDrBCYVCmQj2LnkL88oNCpNLQQgydOkLS8K1CwQeyQoKav0K9u6JC8wneQi8prEIipZlCm+DyQQrXq0LSpMhC4PuHQmmuskKth7FCd7zPQV1sw0L+VrhCmBi3Ql8JoEL8fo1C2XmhQhxADkN9hqlCq9qKQhp/gUKN+bZCKbeyQtUbU0JeKAlC2uaCQmEYuEJ+CFZCWbTNQlPwxUJCI71CwpCLQvGVtkIedKZCfpTGQqE0AUITW+pC/UCIQhFXU0IJzTFCb1G9QpTQxEKnSWdCkNzAQpE6iUIoOa1CRs/QQhzZuULFCotC6L/OQvICzUIHBZtCWMNwQpj9pkKJVVJCisPdQrF0Y0I6jCZCnguCQmBTsUKFXrFCVqS8QjHEAULT4+FC9kCUQg46iULzR61C/5DXQYcQgUKMsbRC2DqzQmI9c0JjJKpCh8vMQt52XkJSgtFCsUkKQnZlnULkT6FC6FxeQvRnu0Lk+HJCCf6hQjvHbEJcc7xCsJzLQYG+VUKoesNCJf6ZQgrGbUE=",
          "dtype": "f4"
         },
         "xaxis": "x",
         "y": {
          "bdata": "OUCVwhsIJ8JpPL7B+tikwZJWwcBkYStBSPK8wI8sEcHSQGtAeRd3ws3dNMLrP5zChBspQQzKz8HJgD3Cpiv6wv5qk8LnBnTBIu1rwp9aLcGXhAzCKVOovzpWEcK1NNDBYg0iwvPlRMIiohXCMpFKwi9TlMGgT5PCmAnywW+XqcDazrrBFoBIwesFI8Et6me/wWVkwXKvUsLjB7vB/I2avjVuhMGwlHjB+y8MwifizsFJrhXCf1xywt4rIsKf4MzBxHW5wSGjW8La5LvCEPumQJ8Le8J/u+vBUaX/wMeyMMHe68XBoZUXwW4efsKFe3jCkaSiwaWOL8KRTgbBijxzwBHSisHfEdbBhcVnwoPI+MDwa87BvSd4wTe19sHtLpTCn1HLwYm9ykKd6LnBnIdLwsD/kcJ30P3BVAGPQIZ+p8Kh0pPChVtSwqekksFbsFDCgH4NwQ0QFME2RszB7hlpwur7HMInkAjCFH+OP9jA68D6+d5Bd+xAwll/qcJjFgnC63xCwbVAUEAMvQfCykfOwUA4bMIi+KLB7p2lwPP6HMLgLHXCfT7ivg/AQMFXGsLBB8NfwsZjAcLVUZXCJeFAQW2Om8LCMr7Cc420wSoNj8G7Lf7BHK9BwTHSn8KNgko/kUjcwXwtPMKq1vLAwhx8wiv4csIU7kzCz6F/wbkHg8IvouLBW+IwwXL8r8IOQFS+n+e+wvsJEcLxvDfCdaPFwgn8fcFGaxnCJsUFQalggsL9d6zBUxHqwR6vssJfdxnBKB7swXKuPcI=",
          "dtype": "f4"
         },
         "yaxis": "y"
        },
        {
         "hovertemplate": "color=COAD<br>PCA 1=%{x}<br>PCA 2=%{y}<extra></extra>",
         "legendgroup": "COAD",
         "marker": {
          "color": "#FFA15A",
          "symbol": "circle"
         },
         "mode": "markers",
         "name": "COAD",
         "orientation": "v",
         "showlegend": true,
         "type": "scatter",
         "x": {
          "bdata": "56NYwhRHnsJOGLXCEG7WwfCBY8Il8n7CPoqCwqPGQsIwpYTCkwG8woHOecJ4AJ7CiYaNwrnfnsJwYJ3CBgs4wveAUsLFufVA+u+6wbY9ccIwWkbCQ1NjwpjgpsKR8qbCneTWwhgGNsIYPPHBroCIwiySgMKRUpjBdQWEwicePsItu6rCABt9wgdbhcJiM33Cpz8gwtgql8Ilhh7CA72jwt6Dv8KbSDTC6EJ4whCxj8G0y2LC3ANrwqYagcJP1KrCxvDdwRT9h8LZD0LCPyv3wRjDW8IlgYrCRKaTwiOGgsIW7JzCDjBGwp4OosLhBR/C6ZNHwsE4scJp8pXBS64xwuqCnMIEYazCtROYwpSjTsLZhn/CCiBawo3TBsKdgXhBJX5bwnHWwMKtoINA8kAawno/xMEeQoTA",
          "dtype": "f4"
         },
         "xaxis": "x",
         "y": {
          "bdata": "DoabwYTJucFaOsTBpyv2v5Q8D8G0i/bBrMbGwQCBwMGh6wLC5wNfwhJBD0EGbAbCrUOHwUBhdMFkG8/BWmqSwcwd1sFCM47BoOkyQU1/yMAt36/B3OD6waVg68HdNRPCoQ4kwrmjm8FBYIbBdqFUwUnIAMKt0EJAd/6bwZ430sGSINDBhL1BwScySMGcWsnBlghdwV8ba8EkcLbAU1FhwqJfUMLX3b3BtwUPwb0uE8L26lbBnBYZwRmsnb9gPG3ClvW7wdqXqsEcsYXBgHdzwb78HMLKQFnBqd4lwRatDcHWlTHCst49QJwjJsJb9z4/EgkMwT0DM8LqSCbBl6NZwC0ylsGBbxzCwIrrv2VIp8G9SYPBmLEjwRl0pcHeNba/p9eUwK5VlMFHYpDAm5DgQLzfB8FmDHvB",
          "dtype": "f4"
         },
         "yaxis": "y"
        }
       ],
       "layout": {
        "legend": {
         "title": {
          "text": "color"
         },
         "tracegroupgap": 0
        },
        "template": {
         "data": {
          "bar": [
           {
            "error_x": {
             "color": "#2a3f5f"
            },
            "error_y": {
             "color": "#2a3f5f"
            },
            "marker": {
             "line": {
              "color": "#E5ECF6",
              "width": 0.5
             },
             "pattern": {
              "fillmode": "overlay",
              "size": 10,
              "solidity": 0.2
             }
            },
            "type": "bar"
           }
          ],
          "barpolar": [
           {
            "marker": {
             "line": {
              "color": "#E5ECF6",
              "width": 0.5
             },
             "pattern": {
              "fillmode": "overlay",
              "size": 10,
              "solidity": 0.2
             }
            },
            "type": "barpolar"
           }
          ],
          "carpet": [
           {
            "aaxis": {
             "endlinecolor": "#2a3f5f",
             "gridcolor": "white",
             "linecolor": "white",
             "minorgridcolor": "white",
             "startlinecolor": "#2a3f5f"
            },
            "baxis": {
             "endlinecolor": "#2a3f5f",
             "gridcolor": "white",
             "linecolor": "white",
             "minorgridcolor": "white",
             "startlinecolor": "#2a3f5f"
            },
            "type": "carpet"
           }
          ],
          "choropleth": [
           {
            "colorbar": {
             "outlinewidth": 0,
             "ticks": ""
            },
            "type": "choropleth"
           }
          ],
          "contour": [
           {
            "colorbar": {
             "outlinewidth": 0,
             "ticks": ""
            },
            "colorscale": [
             [
              0,
              "#0d0887"
             ],
             [
              0.1111111111111111,
              "#46039f"
             ],
             [
              0.2222222222222222,
              "#7201a8"
             ],
             [
              0.3333333333333333,
              "#9c179e"
             ],
             [
              0.4444444444444444,
              "#bd3786"
             ],
             [
              0.5555555555555556,
              "#d8576b"
             ],
             [
              0.6666666666666666,
              "#ed7953"
             ],
             [
              0.7777777777777778,
              "#fb9f3a"
             ],
             [
              0.8888888888888888,
              "#fdca26"
             ],
             [
              1,
              "#f0f921"
             ]
            ],
            "type": "contour"
           }
          ],
          "contourcarpet": [
           {
            "colorbar": {
             "outlinewidth": 0,
             "ticks": ""
            },
            "type": "contourcarpet"
           }
          ],
          "heatmap": [
           {
            "colorbar": {
             "outlinewidth": 0,
             "ticks": ""
            },
            "colorscale": [
             [
              0,
              "#0d0887"
             ],
             [
              0.1111111111111111,
              "#46039f"
             ],
             [
              0.2222222222222222,
              "#7201a8"
             ],
             [
              0.3333333333333333,
              "#9c179e"
             ],
             [
              0.4444444444444444,
              "#bd3786"
             ],
             [
              0.5555555555555556,
              "#d8576b"
             ],
             [
              0.6666666666666666,
              "#ed7953"
             ],
             [
              0.7777777777777778,
              "#fb9f3a"
             ],
             [
              0.8888888888888888,
              "#fdca26"
             ],
             [
              1,
              "#f0f921"
             ]
            ],
            "type": "heatmap"
           }
          ],
          "histogram": [
           {
            "marker": {
             "pattern": {
              "fillmode": "overlay",
              "size": 10,
              "solidity": 0.2
             }
            },
            "type": "histogram"
           }
          ],
          "histogram2d": [
           {
            "colorbar": {
             "outlinewidth": 0,
             "ticks": ""
            },
            "colorscale": [
             [
              0,
              "#0d0887"
             ],
             [
              0.1111111111111111,
              "#46039f"
             ],
             [
              0.2222222222222222,
              "#7201a8"
             ],
             [
              0.3333333333333333,
              "#9c179e"
             ],
             [
              0.4444444444444444,
              "#bd3786"
             ],
             [
              0.5555555555555556,
              "#d8576b"
             ],
             [
              0.6666666666666666,
              "#ed7953"
             ],
             [
              0.7777777777777778,
              "#fb9f3a"
             ],
             [
              0.8888888888888888,
              "#fdca26"
             ],
             [
              1,
              "#f0f921"
             ]
            ],
            "type": "histogram2d"
           }
          ],
          "histogram2dcontour": [
           {
            "colorbar": {
             "outlinewidth": 0,
             "ticks": ""
            },
            "colorscale": [
             [
              0,
              "#0d0887"
             ],
             [
              0.1111111111111111,
              "#46039f"
             ],
             [
              0.2222222222222222,
              "#7201a8"
             ],
             [
              0.3333333333333333,
              "#9c179e"
             ],
             [
              0.4444444444444444,
              "#bd3786"
             ],
             [
              0.5555555555555556,
              "#d8576b"
             ],
             [
              0.6666666666666666,
              "#ed7953"
             ],
             [
              0.7777777777777778,
              "#fb9f3a"
             ],
             [
              0.8888888888888888,
              "#fdca26"
             ],
             [
              1,
              "#f0f921"
             ]
            ],
            "type": "histogram2dcontour"
           }
          ],
          "mesh3d": [
           {
            "colorbar": {
             "outlinewidth": 0,
             "ticks": ""
            },
            "type": "mesh3d"
           }
          ],
          "parcoords": [
           {
            "line": {
             "colorbar": {
              "outlinewidth": 0,
              "ticks": ""
             }
            },
            "type": "parcoords"
           }
          ],
          "pie": [
           {
            "automargin": true,
            "type": "pie"
           }
          ],
          "scatter": [
           {
            "fillpattern": {
             "fillmode": "overlay",
             "size": 10,
             "solidity": 0.2
            },
            "type": "scatter"
           }
          ],
          "scatter3d": [
           {
            "line": {
             "colorbar": {
              "outlinewidth": 0,
              "ticks": ""
             }
            },
            "marker": {
             "colorbar": {
              "outlinewidth": 0,
              "ticks": ""
             }
            },
            "type": "scatter3d"
           }
          ],
          "scattercarpet": [
           {
            "marker": {
             "colorbar": {
              "outlinewidth": 0,
              "ticks": ""
             }
            },
            "type": "scattercarpet"
           }
          ],
          "scattergeo": [
           {
            "marker": {
             "colorbar": {
              "outlinewidth": 0,
              "ticks": ""
             }
            },
            "type": "scattergeo"
           }
          ],
          "scattergl": [
           {
            "marker": {
             "colorbar": {
              "outlinewidth": 0,
              "ticks": ""
             }
            },
            "type": "scattergl"
           }
          ],
          "scattermap": [
           {
            "marker": {
             "colorbar": {
              "outlinewidth": 0,
              "ticks": ""
             }
            },
            "type": "scattermap"
           }
          ],
          "scattermapbox": [
           {
            "marker": {
             "colorbar": {
              "outlinewidth": 0,
              "ticks": ""
             }
            },
            "type": "scattermapbox"
           }
          ],
          "scatterpolar": [
           {
            "marker": {
             "colorbar": {
              "outlinewidth": 0,
              "ticks": ""
             }
            },
            "type": "scatterpolar"
           }
          ],
          "scatterpolargl": [
           {
            "marker": {
             "colorbar": {
              "outlinewidth": 0,
              "ticks": ""
             }
            },
            "type": "scatterpolargl"
           }
          ],
          "scatterternary": [
           {
            "marker": {
             "colorbar": {
              "outlinewidth": 0,
              "ticks": ""
             }
            },
            "type": "scatterternary"
           }
          ],
          "surface": [
           {
            "colorbar": {
             "outlinewidth": 0,
             "ticks": ""
            },
            "colorscale": [
             [
              0,
              "#0d0887"
             ],
             [
              0.1111111111111111,
              "#46039f"
             ],
             [
              0.2222222222222222,
              "#7201a8"
             ],
             [
              0.3333333333333333,
              "#9c179e"
             ],
             [
              0.4444444444444444,
              "#bd3786"
             ],
             [
              0.5555555555555556,
              "#d8576b"
             ],
             [
              0.6666666666666666,
              "#ed7953"
             ],
             [
              0.7777777777777778,
              "#fb9f3a"
             ],
             [
              0.8888888888888888,
              "#fdca26"
             ],
             [
              1,
              "#f0f921"
             ]
            ],
            "type": "surface"
           }
          ],
          "table": [
           {
            "cells": {
             "fill": {
              "color": "#EBF0F8"
             },
             "line": {
              "color": "white"
             }
            },
            "header": {
             "fill": {
              "color": "#C8D4E3"
             },
             "line": {
              "color": "white"
             }
            },
            "type": "table"
           }
          ]
         },
         "layout": {
          "annotationdefaults": {
           "arrowcolor": "#2a3f5f",
           "arrowhead": 0,
           "arrowwidth": 1
          },
          "autotypenumbers": "strict",
          "coloraxis": {
           "colorbar": {
            "outlinewidth": 0,
            "ticks": ""
           }
          },
          "colorscale": {
           "diverging": [
            [
             0,
             "#8e0152"
            ],
            [
             0.1,
             "#c51b7d"
            ],
            [
             0.2,
             "#de77ae"
            ],
            [
             0.3,
             "#f1b6da"
            ],
            [
             0.4,
             "#fde0ef"
            ],
            [
             0.5,
             "#f7f7f7"
            ],
            [
             0.6,
             "#e6f5d0"
            ],
            [
             0.7,
             "#b8e186"
            ],
            [
             0.8,
             "#7fbc41"
            ],
            [
             0.9,
             "#4d9221"
            ],
            [
             1,
             "#276419"
            ]
           ],
           "sequential": [
            [
             0,
             "#0d0887"
            ],
            [
             0.1111111111111111,
             "#46039f"
            ],
            [
             0.2222222222222222,
             "#7201a8"
            ],
            [
             0.3333333333333333,
             "#9c179e"
            ],
            [
             0.4444444444444444,
             "#bd3786"
            ],
            [
             0.5555555555555556,
             "#d8576b"
            ],
            [
             0.6666666666666666,
             "#ed7953"
            ],
            [
             0.7777777777777778,
             "#fb9f3a"
            ],
            [
             0.8888888888888888,
             "#fdca26"
            ],
            [
             1,
             "#f0f921"
            ]
           ],
           "sequentialminus": [
            [
             0,
             "#0d0887"
            ],
            [
             0.1111111111111111,
             "#46039f"
            ],
            [
             0.2222222222222222,
             "#7201a8"
            ],
            [
             0.3333333333333333,
             "#9c179e"
            ],
            [
             0.4444444444444444,
             "#bd3786"
            ],
            [
             0.5555555555555556,
             "#d8576b"
            ],
            [
             0.6666666666666666,
             "#ed7953"
            ],
            [
             0.7777777777777778,
             "#fb9f3a"
            ],
            [
             0.8888888888888888,
             "#fdca26"
            ],
            [
             1,
             "#f0f921"
            ]
           ]
          },
          "colorway": [
           "#636efa",
           "#EF553B",
           "#00cc96",
           "#ab63fa",
           "#FFA15A",
           "#19d3f3",
           "#FF6692",
           "#B6E880",
           "#FF97FF",
           "#FECB52"
          ],
          "font": {
           "color": "#2a3f5f"
          },
          "geo": {
           "bgcolor": "white",
           "lakecolor": "white",
           "landcolor": "#E5ECF6",
           "showlakes": true,
           "showland": true,
           "subunitcolor": "white"
          },
          "hoverlabel": {
           "align": "left"
          },
          "hovermode": "closest",
          "mapbox": {
           "style": "light"
          },
          "paper_bgcolor": "white",
          "plot_bgcolor": "#E5ECF6",
          "polar": {
           "angularaxis": {
            "gridcolor": "white",
            "linecolor": "white",
            "ticks": ""
           },
           "bgcolor": "#E5ECF6",
           "radialaxis": {
            "gridcolor": "white",
            "linecolor": "white",
            "ticks": ""
           }
          },
          "scene": {
           "xaxis": {
            "backgroundcolor": "#E5ECF6",
            "gridcolor": "white",
            "gridwidth": 2,
            "linecolor": "white",
            "showbackground": true,
            "ticks": "",
            "zerolinecolor": "white"
           },
           "yaxis": {
            "backgroundcolor": "#E5ECF6",
            "gridcolor": "white",
            "gridwidth": 2,
            "linecolor": "white",
            "showbackground": true,
            "ticks": "",
            "zerolinecolor": "white"
           },
           "zaxis": {
            "backgroundcolor": "#E5ECF6",
            "gridcolor": "white",
            "gridwidth": 2,
            "linecolor": "white",
            "showbackground": true,
            "ticks": "",
            "zerolinecolor": "white"
           }
          },
          "shapedefaults": {
           "line": {
            "color": "#2a3f5f"
           }
          },
          "ternary": {
           "aaxis": {
            "gridcolor": "white",
            "linecolor": "white",
            "ticks": ""
           },
           "baxis": {
            "gridcolor": "white",
            "linecolor": "white",
            "ticks": ""
           },
           "bgcolor": "#E5ECF6",
           "caxis": {
            "gridcolor": "white",
            "linecolor": "white",
            "ticks": ""
           }
          },
          "title": {
           "x": 0.05
          },
          "xaxis": {
           "automargin": true,
           "gridcolor": "white",
           "linecolor": "white",
           "ticks": "",
           "title": {
            "standoff": 15
           },
           "zerolinecolor": "white",
           "zerolinewidth": 2
          },
          "yaxis": {
           "automargin": true,
           "gridcolor": "white",
           "linecolor": "white",
           "ticks": "",
           "title": {
            "standoff": 15
           },
           "zerolinecolor": "white",
           "zerolinewidth": 2
          }
         }
        },
        "title": {
         "text": "PCA of Gene Expression Data"
        },
        "xaxis": {
         "anchor": "y",
         "domain": [
          0,
          1
         ],
         "title": {
          "text": "PCA 1"
         }
        },
        "yaxis": {
         "anchor": "x",
         "domain": [
          0,
          1
         ],
         "title": {
          "text": "PCA 2"
         }
        }
       }
      }
     },
     "metadata": {},
     "output_type": "display_data"
    },
    {
     "data": {
      "application/vnd.plotly.v1+json": {
       "config": {
        "plotlyServerURL": "https://plot.ly"
       },
       "data": [
        {
         "hovertemplate": "color=PRAD<br>t-SNE 1=%{x}<br>t-SNE 2=%{y}<extra></extra>",
         "legendgroup": "PRAD",
         "marker": {
          "color": "#636efa",
          "symbol": "circle"
         },
         "mode": "markers",
         "name": "PRAD",
         "orientation": "v",
         "showlegend": true,
         "type": "scatter",
         "x": {
          "bdata": "j6siwJHF48Du8rPAfCMIwWogysDlq5HAE4kPwSW6AcFSyLLA+7bFwP0oDcGLuK3AKwSXwEGvBMHMY9DAAk3swDhA7cBmtmLAzRrZwBbou8BgnFzAs365wK/VKMGuxwzAsmbkwG9Z+cD1q9TAvE7OwIkPu8CMVKHAiJRDwc4quMACvivAqcw5waOZ/MCE/t7AFzvLwMAAHcE3XizBUqgPweXef8AkaubAlx65wIXdpsAa1AvB8TjcwFBzxMAOFw7Bh6B1wIXlBcFdFyzAC8IgwfKw5sA288zAEIIXwFwH7sBL/R3BVEKdwAPCIcEHbrrAfXykwCaxL8HrlYLAL4mlwAQJ7MBpsrvAooSEwJDUAcF4ypTAl1DgwCQ5HsEiQgXBpSjIwKB+wMCiLTLB/QgCwWfU7cBhqf/ADGQfwKRgn8Bdp8fAR3fuwAK618B/6ATBiHIUwa/84MDBNS/BR0eKwFxYGMGS4jDBexItwbCFlsCse/HAR14iwYXJEcF7h7rATK0TwTIXBsFqqM/AtC3owEfiF8E229nA3TQ7wKn+KcByzdXAUSUPwc+OPMANy+jAL64BwT3JIMHVF5bAkCF+wHegDsHxfCHBfcM4wYEoAcHPotPApeoHwXJ7ysBpzq/A8TIIwa61G8AfY8jAM8sDwUhME8H6mRfBhV4HwVuxKMELzdzA44ESwWs38MBb0/S/hkkVwczGIcESEaXAH1IRwQ==",
          "dtype": "f4"
         },
         "xaxis": "x",
         "y": {
          "bdata": "/ZuVwYf26ME06snBDOGUweZWjMF/jdzBgbmowVbh0MEA/qjB+zSuwcHTssGLbIrBQhrDwVXT1sFDLNjBR3K9we+q08FogpfBALqqwe0YtsE6g7jBQoHCwVOJwsEBDJfBBrSywRU9tsH48J3BuXOowTIF1sHQAo/BHj7QwZe5m8E7YpTBjTOvwVTDnMH9uo7BqETfwcTQnsG99NbB+TjaweHsysEXGMzBbnWhwRauvMGRSt/BmNOOwVzFs8FkU4PBICG8wT4vwcE9uozBVV3OwU57tMHqttnB5HSQwbhdqMEeLq7BHeuiwWNNw8GVQMHBaJbEwbpupsEh06fBCX2gwUjJoMHbELfB9nK8wQLm4cEDQJ7BbQeiwefy3MGQYrnBkuGYwUXNuMH5+8HBXJOxwYpExsHIiMXBZ3uWwVvrtcFOKcTBW+ekwfoTvMGvLM3B+HvOwUZ0wcFvzdPBk8m5wbRMvMGpa7/BdyO+wbO/lsFYQ7zBKxS0wXrA1cEzSZbBG+25wUuFl8GJgb7BO7LaweWFwcHhNs/B0Fy+wf20oMFxJq3BtKCiwan/ssHnVKfB/xirwaHgu8Gess/BuDmwweO81MG8r8rBXfLUwQ+fr8FoWbXBmpG0wc8AlMHlbNTB5mO+weiIrMFnDN/BdDW5wXeaoMEfZqjB662iwb5axcEy6cjBd3rKwSLSmcHtFprBNs/dwZh+zsEWEK/Bq7OvwQ==",
          "dtype": "f4"
         },
         "yaxis": "y"
        },
        {
         "hovertemplate": "color=LUAD<br>t-SNE 1=%{x}<br>t-SNE 2=%{y}<extra></extra>",
         "legendgroup": "LUAD",
         "marker": {
          "color": "#EF553B",
          "symbol": "circle"
         },
         "mode": "markers",
         "name": "LUAD",
         "orientation": "v",
         "showlegend": true,
         "type": "scatter",
         "x": {
          "bdata": "+bOBwadXdsH+Mj/BAUp8wQO7YsFYW6zBU2aiwWZmhsGomZbBfiKYwTljjcG2srHB9fu0wdgpj8Fb8TPBT7VPwRmBUMEf26rBYALywIUqisHtoWTBPcKgwXakoMErD37By5qkwTzAiMHwrnfB4bF3wVlgasF1JbDBZK1TwZXvqMGoHKnBkb99wUsry8Gd04LBQS2XwWk1hcHOCJfBNAlkwdoLc8FLJZDBci9dwaE9ccG4uHvB04qGwV5dl8EyZmTBcoF+wfgPs8FFxojByr9lwfnsksG+R5/BZ0WEwVZxj8HCwrHBcq6UwStamj41GofBLm+CwWOdscGRFXrBMLOYwcNTmMFDlmjBJAyhwWyhgcFV34fBIsWKwU/BfsEKW5fBAWK0wbfOecGleYbB/NFmwcUyY8GxIXDBaFqFwW8XqcH7TInBaqmawQ4YcsEgMZ/BPLSpwa8qTsF8NkvBVi1VwS7XpcFwKKvBh9GHwequgcFl7V/B22SPwQWCk8GsoJ7Bj/thwdQghMGBE5TBhaCVwdrMd8HhH3XBOsaXwdfQaMGXLJnBcq9TwQv3nMHNZpXBJi9iwTrMdMGHA6PBdgClwbeAe8HfYYnB/qaXwTopW8EuMYHB5nFlwbjDZsEkzX/Bc2KXwQACcMFGAY7Bkb+YwdlINsFhWVrB0KdrwdXjg8H7EY/BB8qrwQhFqcHTJXnBwSmMwd7PkcFSn7PB+hiEwUF2fsE03aDBSOmRwSWuhsF20qzB",
          "dtype": "f4"
         },
         "xaxis": "x",
         "y": {
          "bdata": "0Q/JQCUENEABQGE/DFonvirV+78J7ag/ug3GPX4g3UA8zK49Bzg0P8ZgqEC6HLU/yBSzQEfD+kAWBpNAOebSQGPjjkCPCe8+JyIFQTz0KUBgfYpA2LgrP+D+ub9KNqxAi1KUQA5Td0AyMD4/2vUHvsqRskA98WJAaWKcvludFT+gNpY//G6NQIbFREEOJQTA7inJv3U1ub8nGBRBFmw2QPy5Q0DfVelAgjF3QFxuR0DenpRA67GaQNrZE8CxzdNACS6OvPT23z7uR49Ac6IoQf4SZ79NHWpAnl3RQLVipkAcjhm/8R4PQdYnNUFUgUtACe3eQIKi8UDjhS1ASdipP0DMgkBYR+U/TzuUQNMnv74DmaFAV5EnQHKcC0FtmGC8xnYDQHH8Y0CagqM/ezm5QJLSjkBH6H9Ab/+3PrxElEA9C2RASYgGQGTsHEFLeQJAPic6vyL39T+o4FRA+Xc0QD28pUBUVdo/IHOLQEtilUCoIeQ/FxYnwLPjL0B7Jm6/4xSuPgPGxD+YCQxBsrv5QEsysLzJ5JZAT5QXQcbLIUC9Kx5Bz6v1P2z7R0DiKxNB9/gCwE/s5EAQPL0/L0TLQASOHL9q2DK/OLlvv/jpo0D/RmlAcLdAQILSJ0FviVM/BbYXQTB8Y798at5AKzqIP1EckUBOYClA1QyYP/j0gUALr2JAP/ykP6TdG0BeVs8/dLmcP26JsUB0WA0/8CDDQKaRC0ETNYpABC6rQHDRWz+cJcU9",
          "dtype": "f4"
         },
         "yaxis": "y"
        },
        {
         "hovertemplate": "color=BRCA<br>t-SNE 1=%{x}<br>t-SNE 2=%{y}<extra></extra>",
         "legendgroup": "BRCA",
         "marker": {
          "color": "#00cc96",
          "symbol": "circle"
         },
         "mode": "markers",
         "name": "BRCA",
         "orientation": "v",
         "showlegend": true,
         "type": "scatter",
         "x": {
          "bdata": "mLASQVHkwL91X5JA07OIP7ENPkEX0utAF934QGXPPEGl/wpBEjCYwAKMjsBV+FZBJ4jtQNZA7D5oSSlBDDB0QP2E47oPvg5B3UcUQRyKM0EtiE3AMDlUwObVP0GiosFAfTymQBjDFUCyQITA6NMhQI2bBUB4QCLAShjQQP+vBEEgSe1AzUJSQQ04IUERvLJAIe2IwH4UdUCCdrE+wqkqQXNPMkEbV5NA+/0XQR4XpUAscNhAYqCQQJZvI0HqaMRAQ9wWQYMzLEHPZKXAUL6JvhAXYUFLlzJBjbXcQEvG70BknMBA9X82QbvvHUEccpFAuqv5QMxIbEBHWQJB2Uk6QdvUxUB+jf0/h4eEQCkrvUAz5YBAZm/wP/K6RUCT6Q4/0sooQQD7bkDQVDu/WB9/PyKfHEBl5PZARr5iQOepCEGRRZFAicPNQEKlpEB0V5JAZxpCP05J5b8qF5BATRIwwCyUWMAJvkhA7LPjQJ4P1cD8K0VAdpUbQdFE7D/RyGpBdWYtQbvIOMDFjS/AN+QlP2nf/UAY6spAShGpQEY6Vz/u9oBAInIuQeLBCEELs/5AzgcdQHnj10DSchFBHvY/QaA0REDAtr8/Aj/OQPDOjkDQThFBqjUcQWsRssAmnA7A6tHeQP8EFkG5H6HADlkvQCfJUEH/NQVAplhUQOaYSkEBaOJA3UW6QKIyEEHMnBNBdIr3QKVlZ0HeawVBByZpPyVIAj6/AMdAz6g+wM+L7D7q6qtAuYYxQeQfvD8MyyHAD0ZMwA6ZPkGs9u1Aqv5awCy4Q0HoMVxAfVaKvyO+CkH2TThBIfhZwK7KvD8LyCxBe5tgQb+HvMCGUQ9BfS4TQOgBD0E42z5BwSiHQHcNEEFAH1VBw9OwPxFyCEBbhZ2/QfZSwKS4wED60fe+hQojQVvxC0Fozt6/mOk0QRgKHEBxKrtAjwVGQZ9KnkBye2ZA8CEVQbDd/79x30NBa17EQGstEUBNtYRADuTYvspCNEDs/P5AJEqCQGv1VEFS/BdBMzgUQcal/UBqfQ5BNExrQVFdtUDD4rxA1Zb3QK8yrEBbr7s/VmxVwHp47ECnIw9ACahdQUQ18UDf7qJAGek/QLo6Q0G1JFVAY7iawCC5eUAnLoq+8NsCv0lSTEFkSHTA+nI1QShrIkBljFNB5l8nwB8uIEDTwkpAdyR5wIyACEHCPllBjieDwIjy/T6UGERB8CtNQDWsjcBgTZ5AAU81QT19k8DfHCZB8TKvQPqumUA+stM/UylUwCrc2UBMUajACxyFwFMwRkHot1NAr/JTQcMSA0EBSG5BLyynQCVBz0DUX6FAFsgNQZfqikDoyQJBN6HVQHNnmb/Oj+lATihqQKHHCUEUYjRB0mKzQJKV1UBqNmlBFQCWwEFjQEFYOqk/yJYYP1MI4kB/uhxApPyZQDj1rkDuE5rA5myxPsgWB0EbdD5A84/RQCdkPj2Dwo1AE2ZwQDAyHEEBHa1AxsQxwDARMUETwTlByyWnQFZuwUD+CQBBsw+0QKE4CUECpp9APu3tQLiZjECG3xpA4JtnQHunosCW0CRB2WErQSwuDEGZIBxBgk1dQVTNUUGcXRhB",
          "dtype": "f4"
         },
         "xaxis": "x",
         "y": {
          "bdata": "93UFQfBwZkGgrZdAK8W+vwb0ykCIIxtBE9iTQTi5qEBb1cZAS/ptQbfufUH2GVhBGZyIQUK/VL6m/m5BpywGQE28R72ewGtBlWdoQd9bLkF5VCpBMm0SQdXJCkF3JgNBX/YwQU99y0BohCVBJu2LQIMFTkDW6GtBMmcMQfWBeUHL1AVBdjAtQbeDgUHPXA1ADWhAQSLoCEHVzTO/qzsYQdvnAkGk/stAOQ27QI9dU0HUHz9BGqh4QeSILUGBomBBCUIrQN6I+0BdQS1B2SQLQZksW0ETq4JBnyBGQUjBIkGkn05BUccAQWl1ZUHsCu5ATsuSQX1cc0DlRj9BCTRhQTVyDkFLNpQ/ZSaPQC3xwUBw3kBB2ylvQTb3CkECqIK/92lPQUPRI0FkW0K/nzflQL7SUUEMBypAmckaQcU560CBuU1BqjWHQN0PM0EEaAdBl6a9v3kSF0Gd99lABRhOQU3Pc0ECw75A578uQREiWUHHhCZBELSzQGT6MEHBhBBB3A4uQdaYYkFqii5BGxMEwICMDUF18Q5BIKj1QP+aq747UWNBUXPsQDKzGkG6VBRBx8dZQCRTEkGaV0hB+NhMQTAkSEGI+41A/kM5QSlD5j/ZmDpBC1ANQcZLWEEsFlVB50N8QcDU4EAgb0VBiZZXQfaeWEEDYpRAqfbcQEjngkHg22pBUancQJ7cKUH84HJBxZLbQAzLMUFuenZBUVamQK0o0UB7NiJBOb5QQerV1b4yIl5BeEddQV2g/r5kkOA/b9McQe0dZ0E19WNB0z5QQSvTfUEi1DdAt1hpP7TLGEGdkx9BHmYXQa67HEE3CEVBFD5+QTL/TUFpal1BJMYcQRxGOUEIKntBeesmPigzh0HLF3BB6pRNQSMsaEE4ULdAb79BQRoKMEDiGf9Atf0eQamFHkHD62NBNjApQQAPk0COUEVB0gFDQQoaDUB7de8/jN2JQRDrMEHOB2pAUN4yQeN2ZUHfaVlANimFQOrF7EAyYydBiCdEQTHN9EBs+BpBGpQqQcjj+UDax5pA8lfXQJWlIz+odHJBifAvQYTNskDcELdAFxo6QYUiPEH4TPBAhmn3QPd4UUD+MIlAl5+FQcAGMEH6cwBBIutTQWgCHkH63lJBuTzxQM7YFEG721tBn6XVQLzFR0HOagRBuGtTQR827EBlZZRAowtFQSMJLkEq7xtBZ+pcQeMcuECfLmxAV/s9QNfnVUF+YxFBIiN2QVC6S0Hbbw1BCwEZQSHhLkEWz+S/dOriQJLAVEH8clVBFTd1QckCgUFCOc1A+I/vQMPZUkHKeSxBF/8pQccwKUGr/hJB3sNGQVTNvj5MMyJBDTf2QNWNyD63VJJB7im1QPHyCEFhpLlA/G4bQYyVJ0Eb5FpBsjxDQStZSkGF5UtBK1NwPyPS5UABNx9ApI83QfTRqEAQaBdB429GvvxhcEHoCFxBjPGlQGB/GT2k8jlAXoStQNhw90COW4NB2QRAQS7gOEFSFRJBks53PzxIREHqRpNBJMBgQMQbQkFV6iNBRvC+QOz4IkElJJdAjCYtQfTtPEGPtnBA3YoMQc3IYkHomDdBRX01QZtG1EC7HwZB",
          "dtype": "f4"
         },
         "yaxis": "y"
        },
        {
         "hovertemplate": "color=KIRC<br>t-SNE 1=%{x}<br>t-SNE 2=%{y}<extra></extra>",
         "legendgroup": "KIRC",
         "marker": {
          "color": "#ab63fa",
          "symbol": "circle"
         },
         "mode": "markers",
         "name": "KIRC",
         "orientation": "v",
         "showlegend": true,
         "type": "scatter",
         "x": {
          "bdata": "RBXGQYsT5UG04O9BT/rbQVRrvkHyvQRCpNu4QaJx+UFzffpB9BTaQS5W5EET+9ZBohGYQQJr4EHKffBBjD+8QW0q2EG52PtBz+rcQR1n+0FzwO5B8yTTQUU04kEwrdFBNdfmQai+2kH6tr1B21W9QQdE40GIEN9BzgjEQQcm+EGDNbpBadbFQTEEAkKJKwBCsYiuQTZM00Gp0eZBkY3sQUuj40EHhfNBsjTmQQuXwEFpAe1ByvfRQVwi3UED1eVBx6/eQUmK4EGvGNhBEh/uQcR3+0FA6vNBIh3XQaBx+UEVsN1BeVv8QQZW5EE8YdxBzEADQnL/5EGogf5BRt0BQsNF1kEFr+pB5AsEQtoF9kHX2PFBJu7LQYH70EHDItdBGzXVQcjsBkJWEMtBUSPYQRwe1kGi8ehB7GD6QdlIs0En68dBcb3FQU7Z5EFIxr9B/0XkQYdIAEJu3+RBsm/QQUuN5UGjC9RBTsT/QRH4l0Fl4ARCvruuQQs0z0HW6QRChEXrQa518UHlIMdBELngQYPG2EHqNsZBDNXsQc1b6UGRLNdBrUnxQc3M6EE7lMZB4jS3QRAX3kGlscVBd8byQRXuw0GoQ8tBhDcDQm8+6UF0HupB3KPqQaLQv0FN0PlBp160QbKWxkH/LblBkXC3QS6OxEEPleZBEN+7QTDGxUGVKAVCaGH2Qemzw0FQsfVBVSO6Qa69x0H3deVBZ+HCQfyK6kEcp69B9Gi+Qb5/zEFnb+RBiQLRQdbU2EGM/+BBB5O+QS7u0EE=",
          "dtype": "f4"
         },
         "xaxis": "x",
         "y": {
          "bdata": "ZFWiwTYynsEuzJLBNuBkwStKU8Elo4DBq9xtwa5uZsGtM4bB3D2ZwZxtncFEeZnBt6VKwQtKfcEPe6HB+YSlwdiVnsFywonBScuQwV3mj8GDbofBomNXwdLaisGbumPBqnKXwfIpgMHj0ZTBNgeLwW4rd8E/V6nBhn+Ewfd5csEG4n7BAwxpwREAjMFqRYDB1diFwal8eMHjzk/BRF57waoahMGoWoLBqS6LwUldfcF625XBtC2QwawlhcFij33BdyxGwU26ocHTOanB0yxlwQOUq8EMnJnBPoRfwVB6k8EN53HBRpmQwZs4rsGf5pzBL5qswZmcosGJ1IXBcRypwQuZW8FIiIPBznGowUYXb8GYDYrB04JvwWbfbMFaDKnBjyhJwTbIf8ET9F/BTU6MwbBsr8GxXYPBlXJWwWXWmcGBrbDBRV2MweROaMFrsI3BJjlfwSKGcMHQ0o/ByIN9wXGAl8FJUnfBfplZwaKZSsHpyYDBqL2Nwf9iqMExrabB/dh6wUbUYMEYf1XBtgSBwYjqiMErJ2vBgu+AwSjJosEQAIbByhhvwYQTa8HIAW/BSTSWwa8LgsE/x5jBY+JVwTdGkcH9kZ7BVgWpwZQBicE2cZDBWWp1wZSfmsGonXvBEEKAwWZsdsHuLnbBm0OMwUZdkcE3UazB7CB7wbtyq8EPBF3BwT2KwZ+ZncEPy3bBhmWgwS6of8GfHqbBZGWqwXi5gsFskInBd49YwU0HhcEV3YHB/Pw/wdyAosFQX2XBTQiDwedVh8E=",
          "dtype": "f4"
         },
         "yaxis": "y"
        },
        {
         "hovertemplate": "color=COAD<br>t-SNE 1=%{x}<br>t-SNE 2=%{y}<extra></extra>",
         "legendgroup": "COAD",
         "marker": {
          "color": "#FFA15A",
          "symbol": "circle"
         },
         "mode": "markers",
         "name": "COAD",
         "orientation": "v",
         "showlegend": true,
         "type": "scatter",
         "x": {
          "bdata": "8l/9wbET88GXZALCrNz1wZ1O+8Ev3gDC32IHwkZM88FvkALCNUX7waX+AsLheOrBx5DgwRPPAcI3uuDB5DL3wZg14MFKQ+DBFUXzwVEZAcLn7ufBF9YAwl89/sGlsQPCtBkCwqW/3cGEqvbBlYkIwgK998HrY+TBZ7UFwhd868G21vzBxBP4wdpg+8GHF/DBTBv6wcn5CcKK9/PBHyMGwvB3/cGdxP/ByUz5wdQj58EDperBMyP8wTRfBcIUE+HB21/cwbEj8MGdAgDCCp/0waDQ38HP1gLCvwcGwjLiAcLNLQHCrcffwSrAB8IN+vbBFRbxwRbrBsJ7TebBMwjswasyAcLaAgbC/oQJwmUh98HGbQHC7k/owaU26sEB1d/BxxX7wTuSA8LG/9jBJgz3wSwH6cEm4NjB",
          "dtype": "f4"
         },
         "xaxis": "x",
         "y": {
          "bdata": "21aJQbhpoEH3aqBByLeDQZkJjEGR14lBY2iRQS7aa0H3U3dBO7agQfVdkkHBHJtB+J2VQeE1lUEYMZdBW4eJQdG0i0H85mhBhCCHQX1YbEHA94xBzVKCQRuomkGWq4lBWIOjQSQXjkGdN4JBAgqdQV0xlUGD+X1BClWSQY45ikGtxplB7POZQWNkk0Fnc6ZBoXh2QVGAiUEeHIxBH4qBQW3Pp0E+Y4BBD3+QQW3rcEEYo5JBOzCSQc6rmkF80ZpBFGaFQWRYpkHzH4dBh8R7QV1Vi0HNXYtBddSKQYv+jkG75ppBHY2SQf0ik0GuxINBLpqNQSw/gUE4WX9BFJOMQd4Gl0EeWqVBPoqSQVcjiUG7v5VB8hqYQa/qgkHtFGhBj0ODQT1HmEFuj4BBiiuFQWodgUHvFGVB",
          "dtype": "f4"
         },
         "yaxis": "y"
        }
       ],
       "layout": {
        "legend": {
         "title": {
          "text": "color"
         },
         "tracegroupgap": 0
        },
        "template": {
         "data": {
          "bar": [
           {
            "error_x": {
             "color": "#2a3f5f"
            },
            "error_y": {
             "color": "#2a3f5f"
            },
            "marker": {
             "line": {
              "color": "#E5ECF6",
              "width": 0.5
             },
             "pattern": {
              "fillmode": "overlay",
              "size": 10,
              "solidity": 0.2
             }
            },
            "type": "bar"
           }
          ],
          "barpolar": [
           {
            "marker": {
             "line": {
              "color": "#E5ECF6",
              "width": 0.5
             },
             "pattern": {
              "fillmode": "overlay",
              "size": 10,
              "solidity": 0.2
             }
            },
            "type": "barpolar"
           }
          ],
          "carpet": [
           {
            "aaxis": {
             "endlinecolor": "#2a3f5f",
             "gridcolor": "white",
             "linecolor": "white",
             "minorgridcolor": "white",
             "startlinecolor": "#2a3f5f"
            },
            "baxis": {
             "endlinecolor": "#2a3f5f",
             "gridcolor": "white",
             "linecolor": "white",
             "minorgridcolor": "white",
             "startlinecolor": "#2a3f5f"
            },
            "type": "carpet"
           }
          ],
          "choropleth": [
           {
            "colorbar": {
             "outlinewidth": 0,
             "ticks": ""
            },
            "type": "choropleth"
           }
          ],
          "contour": [
           {
            "colorbar": {
             "outlinewidth": 0,
             "ticks": ""
            },
            "colorscale": [
             [
              0,
              "#0d0887"
             ],
             [
              0.1111111111111111,
              "#46039f"
             ],
             [
              0.2222222222222222,
              "#7201a8"
             ],
             [
              0.3333333333333333,
              "#9c179e"
             ],
             [
              0.4444444444444444,
              "#bd3786"
             ],
             [
              0.5555555555555556,
              "#d8576b"
             ],
             [
              0.6666666666666666,
              "#ed7953"
             ],
             [
              0.7777777777777778,
              "#fb9f3a"
             ],
             [
              0.8888888888888888,
              "#fdca26"
             ],
             [
              1,
              "#f0f921"
             ]
            ],
            "type": "contour"
           }
          ],
          "contourcarpet": [
           {
            "colorbar": {
             "outlinewidth": 0,
             "ticks": ""
            },
            "type": "contourcarpet"
           }
          ],
          "heatmap": [
           {
            "colorbar": {
             "outlinewidth": 0,
             "ticks": ""
            },
            "colorscale": [
             [
              0,
              "#0d0887"
             ],
             [
              0.1111111111111111,
              "#46039f"
             ],
             [
              0.2222222222222222,
              "#7201a8"
             ],
             [
              0.3333333333333333,
              "#9c179e"
             ],
             [
              0.4444444444444444,
              "#bd3786"
             ],
             [
              0.5555555555555556,
              "#d8576b"
             ],
             [
              0.6666666666666666,
              "#ed7953"
             ],
             [
              0.7777777777777778,
              "#fb9f3a"
             ],
             [
              0.8888888888888888,
              "#fdca26"
             ],
             [
              1,
              "#f0f921"
             ]
            ],
            "type": "heatmap"
           }
          ],
          "histogram": [
           {
            "marker": {
             "pattern": {
              "fillmode": "overlay",
              "size": 10,
              "solidity": 0.2
             }
            },
            "type": "histogram"
           }
          ],
          "histogram2d": [
           {
            "colorbar": {
             "outlinewidth": 0,
             "ticks": ""
            },
            "colorscale": [
             [
              0,
              "#0d0887"
             ],
             [
              0.1111111111111111,
              "#46039f"
             ],
             [
              0.2222222222222222,
              "#7201a8"
             ],
             [
              0.3333333333333333,
              "#9c179e"
             ],
             [
              0.4444444444444444,
              "#bd3786"
             ],
             [
              0.5555555555555556,
              "#d8576b"
             ],
             [
              0.6666666666666666,
              "#ed7953"
             ],
             [
              0.7777777777777778,
              "#fb9f3a"
             ],
             [
              0.8888888888888888,
              "#fdca26"
             ],
             [
              1,
              "#f0f921"
             ]
            ],
            "type": "histogram2d"
           }
          ],
          "histogram2dcontour": [
           {
            "colorbar": {
             "outlinewidth": 0,
             "ticks": ""
            },
            "colorscale": [
             [
              0,
              "#0d0887"
             ],
             [
              0.1111111111111111,
              "#46039f"
             ],
             [
              0.2222222222222222,
              "#7201a8"
             ],
             [
              0.3333333333333333,
              "#9c179e"
             ],
             [
              0.4444444444444444,
              "#bd3786"
             ],
             [
              0.5555555555555556,
              "#d8576b"
             ],
             [
              0.6666666666666666,
              "#ed7953"
             ],
             [
              0.7777777777777778,
              "#fb9f3a"
             ],
             [
              0.8888888888888888,
              "#fdca26"
             ],
             [
              1,
              "#f0f921"
             ]
            ],
            "type": "histogram2dcontour"
           }
          ],
          "mesh3d": [
           {
            "colorbar": {
             "outlinewidth": 0,
             "ticks": ""
            },
            "type": "mesh3d"
           }
          ],
          "parcoords": [
           {
            "line": {
             "colorbar": {
              "outlinewidth": 0,
              "ticks": ""
             }
            },
            "type": "parcoords"
           }
          ],
          "pie": [
           {
            "automargin": true,
            "type": "pie"
           }
          ],
          "scatter": [
           {
            "fillpattern": {
             "fillmode": "overlay",
             "size": 10,
             "solidity": 0.2
            },
            "type": "scatter"
           }
          ],
          "scatter3d": [
           {
            "line": {
             "colorbar": {
              "outlinewidth": 0,
              "ticks": ""
             }
            },
            "marker": {
             "colorbar": {
              "outlinewidth": 0,
              "ticks": ""
             }
            },
            "type": "scatter3d"
           }
          ],
          "scattercarpet": [
           {
            "marker": {
             "colorbar": {
              "outlinewidth": 0,
              "ticks": ""
             }
            },
            "type": "scattercarpet"
           }
          ],
          "scattergeo": [
           {
            "marker": {
             "colorbar": {
              "outlinewidth": 0,
              "ticks": ""
             }
            },
            "type": "scattergeo"
           }
          ],
          "scattergl": [
           {
            "marker": {
             "colorbar": {
              "outlinewidth": 0,
              "ticks": ""
             }
            },
            "type": "scattergl"
           }
          ],
          "scattermap": [
           {
            "marker": {
             "colorbar": {
              "outlinewidth": 0,
              "ticks": ""
             }
            },
            "type": "scattermap"
           }
          ],
          "scattermapbox": [
           {
            "marker": {
             "colorbar": {
              "outlinewidth": 0,
              "ticks": ""
             }
            },
            "type": "scattermapbox"
           }
          ],
          "scatterpolar": [
           {
            "marker": {
             "colorbar": {
              "outlinewidth": 0,
              "ticks": ""
             }
            },
            "type": "scatterpolar"
           }
          ],
          "scatterpolargl": [
           {
            "marker": {
             "colorbar": {
              "outlinewidth": 0,
              "ticks": ""
             }
            },
            "type": "scatterpolargl"
           }
          ],
          "scatterternary": [
           {
            "marker": {
             "colorbar": {
              "outlinewidth": 0,
              "ticks": ""
             }
            },
            "type": "scatterternary"
           }
          ],
          "surface": [
           {
            "colorbar": {
             "outlinewidth": 0,
             "ticks": ""
            },
            "colorscale": [
             [
              0,
              "#0d0887"
             ],
             [
              0.1111111111111111,
              "#46039f"
             ],
             [
              0.2222222222222222,
              "#7201a8"
             ],
             [
              0.3333333333333333,
              "#9c179e"
             ],
             [
              0.4444444444444444,
              "#bd3786"
             ],
             [
              0.5555555555555556,
              "#d8576b"
             ],
             [
              0.6666666666666666,
              "#ed7953"
             ],
             [
              0.7777777777777778,
              "#fb9f3a"
             ],
             [
              0.8888888888888888,
              "#fdca26"
             ],
             [
              1,
              "#f0f921"
             ]
            ],
            "type": "surface"
           }
          ],
          "table": [
           {
            "cells": {
             "fill": {
              "color": "#EBF0F8"
             },
             "line": {
              "color": "white"
             }
            },
            "header": {
             "fill": {
              "color": "#C8D4E3"
             },
             "line": {
              "color": "white"
             }
            },
            "type": "table"
           }
          ]
         },
         "layout": {
          "annotationdefaults": {
           "arrowcolor": "#2a3f5f",
           "arrowhead": 0,
           "arrowwidth": 1
          },
          "autotypenumbers": "strict",
          "coloraxis": {
           "colorbar": {
            "outlinewidth": 0,
            "ticks": ""
           }
          },
          "colorscale": {
           "diverging": [
            [
             0,
             "#8e0152"
            ],
            [
             0.1,
             "#c51b7d"
            ],
            [
             0.2,
             "#de77ae"
            ],
            [
             0.3,
             "#f1b6da"
            ],
            [
             0.4,
             "#fde0ef"
            ],
            [
             0.5,
             "#f7f7f7"
            ],
            [
             0.6,
             "#e6f5d0"
            ],
            [
             0.7,
             "#b8e186"
            ],
            [
             0.8,
             "#7fbc41"
            ],
            [
             0.9,
             "#4d9221"
            ],
            [
             1,
             "#276419"
            ]
           ],
           "sequential": [
            [
             0,
             "#0d0887"
            ],
            [
             0.1111111111111111,
             "#46039f"
            ],
            [
             0.2222222222222222,
             "#7201a8"
            ],
            [
             0.3333333333333333,
             "#9c179e"
            ],
            [
             0.4444444444444444,
             "#bd3786"
            ],
            [
             0.5555555555555556,
             "#d8576b"
            ],
            [
             0.6666666666666666,
             "#ed7953"
            ],
            [
             0.7777777777777778,
             "#fb9f3a"
            ],
            [
             0.8888888888888888,
             "#fdca26"
            ],
            [
             1,
             "#f0f921"
            ]
           ],
           "sequentialminus": [
            [
             0,
             "#0d0887"
            ],
            [
             0.1111111111111111,
             "#46039f"
            ],
            [
             0.2222222222222222,
             "#7201a8"
            ],
            [
             0.3333333333333333,
             "#9c179e"
            ],
            [
             0.4444444444444444,
             "#bd3786"
            ],
            [
             0.5555555555555556,
             "#d8576b"
            ],
            [
             0.6666666666666666,
             "#ed7953"
            ],
            [
             0.7777777777777778,
             "#fb9f3a"
            ],
            [
             0.8888888888888888,
             "#fdca26"
            ],
            [
             1,
             "#f0f921"
            ]
           ]
          },
          "colorway": [
           "#636efa",
           "#EF553B",
           "#00cc96",
           "#ab63fa",
           "#FFA15A",
           "#19d3f3",
           "#FF6692",
           "#B6E880",
           "#FF97FF",
           "#FECB52"
          ],
          "font": {
           "color": "#2a3f5f"
          },
          "geo": {
           "bgcolor": "white",
           "lakecolor": "white",
           "landcolor": "#E5ECF6",
           "showlakes": true,
           "showland": true,
           "subunitcolor": "white"
          },
          "hoverlabel": {
           "align": "left"
          },
          "hovermode": "closest",
          "mapbox": {
           "style": "light"
          },
          "paper_bgcolor": "white",
          "plot_bgcolor": "#E5ECF6",
          "polar": {
           "angularaxis": {
            "gridcolor": "white",
            "linecolor": "white",
            "ticks": ""
           },
           "bgcolor": "#E5ECF6",
           "radialaxis": {
            "gridcolor": "white",
            "linecolor": "white",
            "ticks": ""
           }
          },
          "scene": {
           "xaxis": {
            "backgroundcolor": "#E5ECF6",
            "gridcolor": "white",
            "gridwidth": 2,
            "linecolor": "white",
            "showbackground": true,
            "ticks": "",
            "zerolinecolor": "white"
           },
           "yaxis": {
            "backgroundcolor": "#E5ECF6",
            "gridcolor": "white",
            "gridwidth": 2,
            "linecolor": "white",
            "showbackground": true,
            "ticks": "",
            "zerolinecolor": "white"
           },
           "zaxis": {
            "backgroundcolor": "#E5ECF6",
            "gridcolor": "white",
            "gridwidth": 2,
            "linecolor": "white",
            "showbackground": true,
            "ticks": "",
            "zerolinecolor": "white"
           }
          },
          "shapedefaults": {
           "line": {
            "color": "#2a3f5f"
           }
          },
          "ternary": {
           "aaxis": {
            "gridcolor": "white",
            "linecolor": "white",
            "ticks": ""
           },
           "baxis": {
            "gridcolor": "white",
            "linecolor": "white",
            "ticks": ""
           },
           "bgcolor": "#E5ECF6",
           "caxis": {
            "gridcolor": "white",
            "linecolor": "white",
            "ticks": ""
           }
          },
          "title": {
           "x": 0.05
          },
          "xaxis": {
           "automargin": true,
           "gridcolor": "white",
           "linecolor": "white",
           "ticks": "",
           "title": {
            "standoff": 15
           },
           "zerolinecolor": "white",
           "zerolinewidth": 2
          },
          "yaxis": {
           "automargin": true,
           "gridcolor": "white",
           "linecolor": "white",
           "ticks": "",
           "title": {
            "standoff": 15
           },
           "zerolinecolor": "white",
           "zerolinewidth": 2
          }
         }
        },
        "title": {
         "text": "t-SNE of Gene Expression Data"
        },
        "xaxis": {
         "anchor": "y",
         "domain": [
          0,
          1
         ],
         "title": {
          "text": "t-SNE 1"
         }
        },
        "yaxis": {
         "anchor": "x",
         "domain": [
          0,
          1
         ],
         "title": {
          "text": "t-SNE 2"
         }
        }
       }
      }
     },
     "metadata": {},
     "output_type": "display_data"
    },
    {
     "name": "stdout",
     "output_type": "stream",
     "text": [
      "\n",
      "Top 10 Genes by Importance:\n",
      "gene_14092    0.013081\n",
      "gene_15987    0.010757\n",
      "gene_8099     0.009729\n",
      "gene_7964     0.009284\n",
      "gene_7896     0.009193\n",
      "gene_5578     0.008598\n",
      "gene_1122     0.008332\n",
      "gene_16169    0.008284\n",
      "gene_5598     0.007933\n",
      "gene_14427    0.007054\n",
      "dtype: float64\n"
     ]
    },
    {
     "data": {
      "application/vnd.plotly.v1+json": {
       "config": {
        "plotlyServerURL": "https://plot.ly"
       },
       "data": [
        {
         "hovertemplate": "index=%{x}<br>Importance=%{y}<extra></extra>",
         "legendgroup": "",
         "marker": {
          "color": "#636efa",
          "pattern": {
           "shape": ""
          }
         },
         "name": "",
         "orientation": "v",
         "showlegend": false,
         "textposition": "auto",
         "type": "bar",
         "x": [
          "gene_14092",
          "gene_15987",
          "gene_8099",
          "gene_7964",
          "gene_7896",
          "gene_5578",
          "gene_1122",
          "gene_16169",
          "gene_5598",
          "gene_14427"
         ],
         "xaxis": "x",
         "y": {
          "bdata": "preQmB/Kij8Tf7Zm1AeGP3Q52uaK7IM/96c2M0sDgz8dAyzf09OCPyiBZc28m4E/bdWkDYoQgT+5vVsNbveAP4TcNHMnP4A/g40DPOLkfD8=",
          "dtype": "f8"
         },
         "yaxis": "y"
        }
       ],
       "layout": {
        "barmode": "relative",
        "legend": {
         "tracegroupgap": 0
        },
        "template": {
         "data": {
          "bar": [
           {
            "error_x": {
             "color": "#2a3f5f"
            },
            "error_y": {
             "color": "#2a3f5f"
            },
            "marker": {
             "line": {
              "color": "#E5ECF6",
              "width": 0.5
             },
             "pattern": {
              "fillmode": "overlay",
              "size": 10,
              "solidity": 0.2
             }
            },
            "type": "bar"
           }
          ],
          "barpolar": [
           {
            "marker": {
             "line": {
              "color": "#E5ECF6",
              "width": 0.5
             },
             "pattern": {
              "fillmode": "overlay",
              "size": 10,
              "solidity": 0.2
             }
            },
            "type": "barpolar"
           }
          ],
          "carpet": [
           {
            "aaxis": {
             "endlinecolor": "#2a3f5f",
             "gridcolor": "white",
             "linecolor": "white",
             "minorgridcolor": "white",
             "startlinecolor": "#2a3f5f"
            },
            "baxis": {
             "endlinecolor": "#2a3f5f",
             "gridcolor": "white",
             "linecolor": "white",
             "minorgridcolor": "white",
             "startlinecolor": "#2a3f5f"
            },
            "type": "carpet"
           }
          ],
          "choropleth": [
           {
            "colorbar": {
             "outlinewidth": 0,
             "ticks": ""
            },
            "type": "choropleth"
           }
          ],
          "contour": [
           {
            "colorbar": {
             "outlinewidth": 0,
             "ticks": ""
            },
            "colorscale": [
             [
              0,
              "#0d0887"
             ],
             [
              0.1111111111111111,
              "#46039f"
             ],
             [
              0.2222222222222222,
              "#7201a8"
             ],
             [
              0.3333333333333333,
              "#9c179e"
             ],
             [
              0.4444444444444444,
              "#bd3786"
             ],
             [
              0.5555555555555556,
              "#d8576b"
             ],
             [
              0.6666666666666666,
              "#ed7953"
             ],
             [
              0.7777777777777778,
              "#fb9f3a"
             ],
             [
              0.8888888888888888,
              "#fdca26"
             ],
             [
              1,
              "#f0f921"
             ]
            ],
            "type": "contour"
           }
          ],
          "contourcarpet": [
           {
            "colorbar": {
             "outlinewidth": 0,
             "ticks": ""
            },
            "type": "contourcarpet"
           }
          ],
          "heatmap": [
           {
            "colorbar": {
             "outlinewidth": 0,
             "ticks": ""
            },
            "colorscale": [
             [
              0,
              "#0d0887"
             ],
             [
              0.1111111111111111,
              "#46039f"
             ],
             [
              0.2222222222222222,
              "#7201a8"
             ],
             [
              0.3333333333333333,
              "#9c179e"
             ],
             [
              0.4444444444444444,
              "#bd3786"
             ],
             [
              0.5555555555555556,
              "#d8576b"
             ],
             [
              0.6666666666666666,
              "#ed7953"
             ],
             [
              0.7777777777777778,
              "#fb9f3a"
             ],
             [
              0.8888888888888888,
              "#fdca26"
             ],
             [
              1,
              "#f0f921"
             ]
            ],
            "type": "heatmap"
           }
          ],
          "histogram": [
           {
            "marker": {
             "pattern": {
              "fillmode": "overlay",
              "size": 10,
              "solidity": 0.2
             }
            },
            "type": "histogram"
           }
          ],
          "histogram2d": [
           {
            "colorbar": {
             "outlinewidth": 0,
             "ticks": ""
            },
            "colorscale": [
             [
              0,
              "#0d0887"
             ],
             [
              0.1111111111111111,
              "#46039f"
             ],
             [
              0.2222222222222222,
              "#7201a8"
             ],
             [
              0.3333333333333333,
              "#9c179e"
             ],
             [
              0.4444444444444444,
              "#bd3786"
             ],
             [
              0.5555555555555556,
              "#d8576b"
             ],
             [
              0.6666666666666666,
              "#ed7953"
             ],
             [
              0.7777777777777778,
              "#fb9f3a"
             ],
             [
              0.8888888888888888,
              "#fdca26"
             ],
             [
              1,
              "#f0f921"
             ]
            ],
            "type": "histogram2d"
           }
          ],
          "histogram2dcontour": [
           {
            "colorbar": {
             "outlinewidth": 0,
             "ticks": ""
            },
            "colorscale": [
             [
              0,
              "#0d0887"
             ],
             [
              0.1111111111111111,
              "#46039f"
             ],
             [
              0.2222222222222222,
              "#7201a8"
             ],
             [
              0.3333333333333333,
              "#9c179e"
             ],
             [
              0.4444444444444444,
              "#bd3786"
             ],
             [
              0.5555555555555556,
              "#d8576b"
             ],
             [
              0.6666666666666666,
              "#ed7953"
             ],
             [
              0.7777777777777778,
              "#fb9f3a"
             ],
             [
              0.8888888888888888,
              "#fdca26"
             ],
             [
              1,
              "#f0f921"
             ]
            ],
            "type": "histogram2dcontour"
           }
          ],
          "mesh3d": [
           {
            "colorbar": {
             "outlinewidth": 0,
             "ticks": ""
            },
            "type": "mesh3d"
           }
          ],
          "parcoords": [
           {
            "line": {
             "colorbar": {
              "outlinewidth": 0,
              "ticks": ""
             }
            },
            "type": "parcoords"
           }
          ],
          "pie": [
           {
            "automargin": true,
            "type": "pie"
           }
          ],
          "scatter": [
           {
            "fillpattern": {
             "fillmode": "overlay",
             "size": 10,
             "solidity": 0.2
            },
            "type": "scatter"
           }
          ],
          "scatter3d": [
           {
            "line": {
             "colorbar": {
              "outlinewidth": 0,
              "ticks": ""
             }
            },
            "marker": {
             "colorbar": {
              "outlinewidth": 0,
              "ticks": ""
             }
            },
            "type": "scatter3d"
           }
          ],
          "scattercarpet": [
           {
            "marker": {
             "colorbar": {
              "outlinewidth": 0,
              "ticks": ""
             }
            },
            "type": "scattercarpet"
           }
          ],
          "scattergeo": [
           {
            "marker": {
             "colorbar": {
              "outlinewidth": 0,
              "ticks": ""
             }
            },
            "type": "scattergeo"
           }
          ],
          "scattergl": [
           {
            "marker": {
             "colorbar": {
              "outlinewidth": 0,
              "ticks": ""
             }
            },
            "type": "scattergl"
           }
          ],
          "scattermap": [
           {
            "marker": {
             "colorbar": {
              "outlinewidth": 0,
              "ticks": ""
             }
            },
            "type": "scattermap"
           }
          ],
          "scattermapbox": [
           {
            "marker": {
             "colorbar": {
              "outlinewidth": 0,
              "ticks": ""
             }
            },
            "type": "scattermapbox"
           }
          ],
          "scatterpolar": [
           {
            "marker": {
             "colorbar": {
              "outlinewidth": 0,
              "ticks": ""
             }
            },
            "type": "scatterpolar"
           }
          ],
          "scatterpolargl": [
           {
            "marker": {
             "colorbar": {
              "outlinewidth": 0,
              "ticks": ""
             }
            },
            "type": "scatterpolargl"
           }
          ],
          "scatterternary": [
           {
            "marker": {
             "colorbar": {
              "outlinewidth": 0,
              "ticks": ""
             }
            },
            "type": "scatterternary"
           }
          ],
          "surface": [
           {
            "colorbar": {
             "outlinewidth": 0,
             "ticks": ""
            },
            "colorscale": [
             [
              0,
              "#0d0887"
             ],
             [
              0.1111111111111111,
              "#46039f"
             ],
             [
              0.2222222222222222,
              "#7201a8"
             ],
             [
              0.3333333333333333,
              "#9c179e"
             ],
             [
              0.4444444444444444,
              "#bd3786"
             ],
             [
              0.5555555555555556,
              "#d8576b"
             ],
             [
              0.6666666666666666,
              "#ed7953"
             ],
             [
              0.7777777777777778,
              "#fb9f3a"
             ],
             [
              0.8888888888888888,
              "#fdca26"
             ],
             [
              1,
              "#f0f921"
             ]
            ],
            "type": "surface"
           }
          ],
          "table": [
           {
            "cells": {
             "fill": {
              "color": "#EBF0F8"
             },
             "line": {
              "color": "white"
             }
            },
            "header": {
             "fill": {
              "color": "#C8D4E3"
             },
             "line": {
              "color": "white"
             }
            },
            "type": "table"
           }
          ]
         },
         "layout": {
          "annotationdefaults": {
           "arrowcolor": "#2a3f5f",
           "arrowhead": 0,
           "arrowwidth": 1
          },
          "autotypenumbers": "strict",
          "coloraxis": {
           "colorbar": {
            "outlinewidth": 0,
            "ticks": ""
           }
          },
          "colorscale": {
           "diverging": [
            [
             0,
             "#8e0152"
            ],
            [
             0.1,
             "#c51b7d"
            ],
            [
             0.2,
             "#de77ae"
            ],
            [
             0.3,
             "#f1b6da"
            ],
            [
             0.4,
             "#fde0ef"
            ],
            [
             0.5,
             "#f7f7f7"
            ],
            [
             0.6,
             "#e6f5d0"
            ],
            [
             0.7,
             "#b8e186"
            ],
            [
             0.8,
             "#7fbc41"
            ],
            [
             0.9,
             "#4d9221"
            ],
            [
             1,
             "#276419"
            ]
           ],
           "sequential": [
            [
             0,
             "#0d0887"
            ],
            [
             0.1111111111111111,
             "#46039f"
            ],
            [
             0.2222222222222222,
             "#7201a8"
            ],
            [
             0.3333333333333333,
             "#9c179e"
            ],
            [
             0.4444444444444444,
             "#bd3786"
            ],
            [
             0.5555555555555556,
             "#d8576b"
            ],
            [
             0.6666666666666666,
             "#ed7953"
            ],
            [
             0.7777777777777778,
             "#fb9f3a"
            ],
            [
             0.8888888888888888,
             "#fdca26"
            ],
            [
             1,
             "#f0f921"
            ]
           ],
           "sequentialminus": [
            [
             0,
             "#0d0887"
            ],
            [
             0.1111111111111111,
             "#46039f"
            ],
            [
             0.2222222222222222,
             "#7201a8"
            ],
            [
             0.3333333333333333,
             "#9c179e"
            ],
            [
             0.4444444444444444,
             "#bd3786"
            ],
            [
             0.5555555555555556,
             "#d8576b"
            ],
            [
             0.6666666666666666,
             "#ed7953"
            ],
            [
             0.7777777777777778,
             "#fb9f3a"
            ],
            [
             0.8888888888888888,
             "#fdca26"
            ],
            [
             1,
             "#f0f921"
            ]
           ]
          },
          "colorway": [
           "#636efa",
           "#EF553B",
           "#00cc96",
           "#ab63fa",
           "#FFA15A",
           "#19d3f3",
           "#FF6692",
           "#B6E880",
           "#FF97FF",
           "#FECB52"
          ],
          "font": {
           "color": "#2a3f5f"
          },
          "geo": {
           "bgcolor": "white",
           "lakecolor": "white",
           "landcolor": "#E5ECF6",
           "showlakes": true,
           "showland": true,
           "subunitcolor": "white"
          },
          "hoverlabel": {
           "align": "left"
          },
          "hovermode": "closest",
          "mapbox": {
           "style": "light"
          },
          "paper_bgcolor": "white",
          "plot_bgcolor": "#E5ECF6",
          "polar": {
           "angularaxis": {
            "gridcolor": "white",
            "linecolor": "white",
            "ticks": ""
           },
           "bgcolor": "#E5ECF6",
           "radialaxis": {
            "gridcolor": "white",
            "linecolor": "white",
            "ticks": ""
           }
          },
          "scene": {
           "xaxis": {
            "backgroundcolor": "#E5ECF6",
            "gridcolor": "white",
            "gridwidth": 2,
            "linecolor": "white",
            "showbackground": true,
            "ticks": "",
            "zerolinecolor": "white"
           },
           "yaxis": {
            "backgroundcolor": "#E5ECF6",
            "gridcolor": "white",
            "gridwidth": 2,
            "linecolor": "white",
            "showbackground": true,
            "ticks": "",
            "zerolinecolor": "white"
           },
           "zaxis": {
            "backgroundcolor": "#E5ECF6",
            "gridcolor": "white",
            "gridwidth": 2,
            "linecolor": "white",
            "showbackground": true,
            "ticks": "",
            "zerolinecolor": "white"
           }
          },
          "shapedefaults": {
           "line": {
            "color": "#2a3f5f"
           }
          },
          "ternary": {
           "aaxis": {
            "gridcolor": "white",
            "linecolor": "white",
            "ticks": ""
           },
           "baxis": {
            "gridcolor": "white",
            "linecolor": "white",
            "ticks": ""
           },
           "bgcolor": "#E5ECF6",
           "caxis": {
            "gridcolor": "white",
            "linecolor": "white",
            "ticks": ""
           }
          },
          "title": {
           "x": 0.05
          },
          "xaxis": {
           "automargin": true,
           "gridcolor": "white",
           "linecolor": "white",
           "ticks": "",
           "title": {
            "standoff": 15
           },
           "zerolinecolor": "white",
           "zerolinewidth": 2
          },
          "yaxis": {
           "automargin": true,
           "gridcolor": "white",
           "linecolor": "white",
           "ticks": "",
           "title": {
            "standoff": 15
           },
           "zerolinecolor": "white",
           "zerolinewidth": 2
          }
         }
        },
        "title": {
         "text": "Top 10 Genes by Random Forest Importance"
        },
        "xaxis": {
         "anchor": "y",
         "domain": [
          0,
          1
         ],
         "title": {
          "text": "index"
         }
        },
        "yaxis": {
         "anchor": "x",
         "domain": [
          0,
          1
         ],
         "title": {
          "text": "Importance"
         }
        }
       }
      }
     },
     "metadata": {},
     "output_type": "display_data"
    },
    {
     "name": "stdout",
     "output_type": "stream",
     "text": [
      "\n",
      "Samples with >10 extreme gene expressions: 801\n"
     ]
    }
   ],
   "source": [
    "# Gene Expression Cancer RNA-Seq - Dimensionality Reduction & Feature Importance\n",
    "# -------------------------------------------------------------------------------\n",
    "# Goal: Visualize high-dimensional RNA-Seq data (PCA, t-SNE) and extract top genes\n",
    "#       with Random Forest feature importance.\n",
    "\n",
    "from sklearn.preprocessing import StandardScaler, LabelEncoder\n",
    "from sklearn.decomposition import PCA\n",
    "from sklearn.manifold import TSNE\n",
    "from sklearn.ensemble import RandomForestClassifier\n",
    "\n",
    "# ============================\n",
    "# 1. Scaling\n",
    "# ============================\n",
    "X_viz = df.drop(\"Class\", axis=1)\n",
    "scaler = StandardScaler()\n",
    "X_viz_scaled = scaler.fit_transform(X_viz)\n",
    "y = LabelEncoder().fit_transform(df[\"Class\"])\n",
    "\n",
    "\n",
    "# ============================\n",
    "# 2. PCA (Global Structure)\n",
    "# ============================\n",
    "pca = PCA(n_components=2)\n",
    "X_pca = pca.fit_transform(X_viz_scaled)\n",
    "\n",
    "print(f\"PCA explained variance ratio: {pca.explained_variance_ratio_.sum():.3f}\")\n",
    "\n",
    "fig_pca = px.scatter(\n",
    "    x=X_pca[:, 0],\n",
    "    y=X_pca[:, 1],\n",
    "    color=df[\"Class\"],\n",
    "    title=\"PCA of Gene Expression Data\",\n",
    "    labels={\"x\": \"PCA 1\", \"y\": \"PCA 2\"},\n",
    ")\n",
    "fig_pca.show()\n",
    "\n",
    "# 🔎 Observations:\n",
    "# - PCA (2D) explains ~19% of total variance → limited dimensionality capture.\n",
    "# - Some overlap between classes; only certain cancer types (e.g., KIRC) partially separate.\n",
    "# - PCA is useful for variance structure but not sufficient for clustering.\n",
    "\n",
    "\n",
    "# ============================\n",
    "# 3. t-SNE (Local Structure)\n",
    "# ============================\n",
    "tsne = TSNE(n_components=2, perplexity=30, random_state=42)\n",
    "X_tsne = tsne.fit_transform(X_viz_scaled)\n",
    "\n",
    "fig_tsne = px.scatter(\n",
    "    x=X_tsne[:, 0],\n",
    "    y=X_tsne[:, 1],\n",
    "    color=df[\"Class\"],\n",
    "    title=\"t-SNE of Gene Expression Data\",\n",
    "    labels={\"x\": \"t-SNE 1\", \"y\": \"t-SNE 2\"},\n",
    ")\n",
    "fig_tsne.show()\n",
    "\n",
    "# 🔎 Observations:\n",
    "# - t-SNE reveals **clear separation of cancer subtypes**.\n",
    "# - Preserves local structure, showing transcriptomic profiles are distinct.\n",
    "# - t-SNE is only for visualization, not feature input for ML models.\n",
    "\n",
    "\n",
    "# ============================\n",
    "# 4. Feature Importance (Random Forest)\n",
    "# ============================\n",
    "rf = RandomForestClassifier(n_estimators=100, random_state=42, n_jobs=-1)\n",
    "rf.fit(X_viz_scaled, y)\n",
    "\n",
    "importances = rf.feature_importances_\n",
    "top_genes = pd.Series(importances, index=X_viz.columns).sort_values(ascending=False)[\n",
    "    :10\n",
    "]\n",
    "\n",
    "print(\"\\nTop 10 Genes by Importance:\")\n",
    "print(top_genes)\n",
    "\n",
    "fig = px.bar(\n",
    "    top_genes,\n",
    "    x=top_genes.index,\n",
    "    y=top_genes.values,\n",
    "    title=\"Top 10 Genes by Random Forest Importance\",\n",
    "    labels={\"x\": \"Genes\", \"y\": \"Importance\"},\n",
    ")\n",
    "fig.show()\n",
    "\n",
    "# 🔎 Observations:\n",
    "# - Top genes contribute ~0.7–1.3% each.\n",
    "# - No single dominant gene → classification depends on a **multi-gene signature**.\n",
    "# - Consistent with biological reality (cancer classification relies on multiple pathways).\n",
    "\n",
    "\n",
    "# ============================\n",
    "# 5. Outlier Detection (z-score)\n",
    "# ============================\n",
    "z_scores = np.abs(X_viz_scaled)\n",
    "outliers = (z_scores > 3).sum(axis=1)\n",
    "\n",
    "print(f\"\\nSamples with >10 extreme gene expressions: {(outliers > 10).sum()}\")\n",
    "\n",
    "# 🔎 Observations:\n",
    "# - Many samples flagged as \"outliers\" due to high dimensionality (~20k genes).\n",
    "# - Not true anomalies → reflects natural biological variability in RNA-Seq data."
   ]
  },
  {
   "cell_type": "code",
   "execution_count": 6,
   "id": "8582d434",
   "metadata": {},
   "outputs": [
    {
     "name": "stdout",
     "output_type": "stream",
     "text": [
      "Train shape: (640, 20531), Test shape: (161, 20531)\n",
      "Number of PCA components for 80% variance: 168\n"
     ]
    }
   ],
   "source": [
    "# Gene Expression Cancer RNA-Seq - Preprocessing\n",
    "# ----------------------------------------------\n",
    "# Goal: Build a preprocessing pipeline to handle high-dimensional RNA-Seq data.\n",
    "# Steps:\n",
    "#   1. Train/test split with stratification.\n",
    "#   2. Log transform (optional).\n",
    "#   3. Standard scaling.\n",
    "#   4. Feature selection (variance threshold).\n",
    "#   5. PCA dimensionality reduction (optional).\n",
    "\n",
    "from sklearn.model_selection import train_test_split\n",
    "from sklearn.pipeline import Pipeline\n",
    "from sklearn.preprocessing import FunctionTransformer\n",
    "from sklearn.feature_selection import VarianceThreshold\n",
    "\n",
    "# ============================\n",
    "# 1. Train/Test Split\n",
    "# ============================\n",
    "X = df.drop(\"Class\", axis=1)\n",
    "y = df[\"Class\"]  # already encoded in previous step with LabelEncoder if needed\n",
    "\n",
    "X_train, X_test, y_train, y_test = train_test_split(\n",
    "    X, y, test_size=0.2, stratify=y, random_state=42\n",
    ")\n",
    "\n",
    "print(f\"Train shape: {X_train.shape}, Test shape: {X_test.shape}\")\n",
    "\n",
    "\n",
    "# ============================\n",
    "# 2. PCA Variance Explained\n",
    "# ============================\n",
    "X_train_tpm = scaler.fit_transform(np.log1p(X_train))\n",
    "pca_full = PCA().fit(X_train_tpm)\n",
    "cum_var = np.cumsum(pca_full.explained_variance_ratio_)\n",
    "n_components = np.where(cum_var >= 0.8)[0][0] + 1\n",
    "\n",
    "print(f\"Number of PCA components for 80% variance: {n_components}\")\n",
    "# → 168 components\n",
    "\n",
    "\n",
    "# ============================\n",
    "# 3. Preprocessing Pipeline\n",
    "# ============================\n",
    "log_transformer = FunctionTransformer(np.log1p, validate=False)\n",
    "\n",
    "preprocessor = Pipeline(\n",
    "    steps=[\n",
    "        # (\"log\", log_transformer),            # optional: log1p transform\n",
    "        (\"scaler\", StandardScaler()),  # normalize gene expression\n",
    "        (\"var\", VarianceThreshold(threshold=0.1)),  # remove low-variance genes\n",
    "        # (\"pca\", PCA(n_components=n_components, whiten=True)),  # optional PCA\n",
    "    ]\n",
    ")\n",
    "\n",
    "# 🔎 Observations:\n",
    "# - Log transform tested, but did not improve model performance → commented.\n",
    "# - Variance threshold (0.1) filters out uninformative genes → reduces dimensionality.\n",
    "# - PCA to 168 components explains 80% variance, but initial tests showed\n",
    "#   tree-based models performed better without PCA (retain full feature space)."
   ]
  },
  {
   "cell_type": "code",
   "execution_count": 7,
   "id": "688a0887",
   "metadata": {},
   "outputs": [
    {
     "name": "stderr",
     "output_type": "stream",
     "text": [
      "/opt/homebrew/Caskroom/miniconda/base/envs/ds_elite/lib/python3.11/site-packages/tqdm/auto.py:21: TqdmWarning:\n",
      "\n",
      "IProgress not found. Please update jupyter and ipywidgets. See https://ipywidgets.readthedocs.io/en/stable/user_install.html\n",
      "\n"
     ]
    },
    {
     "name": "stdout",
     "output_type": "stream",
     "text": [
      "\n",
      "Cross-Validation Results:\n",
      "                     F1 Macro  F1 Weighted  Recall Macro  Balanced Accuracy\n",
      "Logistic Regression  0.998657     0.998427      0.998182           0.998182\n",
      "Train transformed shape: (640, 20254)\n",
      "Test transformed shape: (161, 20254)\n"
     ]
    },
    {
     "name": "stderr",
     "output_type": "stream",
     "text": [
      "/var/folders/db/5zyr74rj7fn21wgcyltjd3440000gn/T/ipykernel_9585/3144437243.py:100: FutureWarning:\n",
      "\n",
      "The NumPy global RNG was seeded by calling `np.random.seed`. In a future version this function will no longer use the global RNG. Pass `rng` explicitly to opt-in to the new behaviour and silence this warning.\n",
      "\n"
     ]
    },
    {
     "name": "stdout",
     "output_type": "stream",
     "text": [
      "\n",
      "Test Set Metrics\n",
      "F1 Macro: 0.995\n",
      "F1 Weighted: 0.994\n",
      "Recall Macro: 0.993\n",
      "Balanced Accuracy: 0.993\n",
      "\n",
      "Classification Report:\n",
      "              precision    recall  f1-score   support\n",
      "\n",
      "        BRCA       0.98      1.00      0.99        60\n",
      "        COAD       1.00      1.00      1.00        16\n",
      "        KIRC       1.00      1.00      1.00        30\n",
      "        LUAD       1.00      0.96      0.98        28\n",
      "        PRAD       1.00      1.00      1.00        27\n",
      "\n",
      "    accuracy                           0.99       161\n",
      "   macro avg       1.00      0.99      0.99       161\n",
      "weighted avg       0.99      0.99      0.99       161\n",
      "\n"
     ]
    }
   ],
   "source": [
    "# Gene Expression Cancer RNA-Seq - Modeling & Evaluation\n",
    "# ------------------------------------------------------\n",
    "# Goal: Compare classifiers on high-dimensional RNA-Seq data using\n",
    "#       cross-validation and interpret predictions with SHAP.\n",
    "\n",
    "from sklearn.model_selection import StratifiedKFold, cross_validate\n",
    "from sklearn.linear_model import LogisticRegression\n",
    "from xgboost import XGBClassifier\n",
    "from sklearn.svm import SVC\n",
    "from lightgbm import LGBMClassifier\n",
    "from catboost import CatBoostClassifier\n",
    "from sklearn.metrics import (\n",
    "    f1_score,\n",
    "    recall_score,\n",
    "    balanced_accuracy_score,\n",
    "    classification_report,\n",
    ")\n",
    "import shap\n",
    "\n",
    "# ============================\n",
    "# 1. Candidate Models\n",
    "# ============================\n",
    "models = {\n",
    "    \"Logistic Regression\": LogisticRegression(penalty=\"l2\", C=0.01, max_iter=1000),\n",
    "    # \"Random Forest\": RandomForestClassifier(),\n",
    "    # \"XGBoost\": XGBClassifier(),\n",
    "    # \"SVC\": SVC(probability=True),\n",
    "    # \"LightGBM\": LGBMClassifier(),\n",
    "    # \"CatBoost\": CatBoostClassifier(verbose=0),\n",
    "}\n",
    "\n",
    "cv = StratifiedKFold(n_splits=5, shuffle=True, random_state=42)\n",
    "scoring = {\n",
    "    \"f1_macro\": \"f1_macro\",\n",
    "    \"f1_weighted\": \"f1_weighted\",\n",
    "    \"recall_macro\": \"recall_macro\",\n",
    "    \"balanced_acc\": \"balanced_accuracy\",\n",
    "}\n",
    "\n",
    "# ============================\n",
    "# 2. Cross-Validation Results\n",
    "# ============================\n",
    "results = {}\n",
    "for name, model in models.items():\n",
    "    pipeline = Pipeline(steps=[(\"preprocessor\", preprocessor), (\"model\", model)])\n",
    "    cv_results = cross_validate(\n",
    "        pipeline, X_train, y_train, cv=cv, scoring=scoring, n_jobs=-1\n",
    "    )\n",
    "    results[name] = {\n",
    "        \"F1 Macro\": cv_results[\"test_f1_macro\"].mean(),\n",
    "        \"F1 Weighted\": cv_results[\"test_f1_weighted\"].mean(),\n",
    "        \"Recall Macro\": cv_results[\"test_recall_macro\"].mean(),\n",
    "        \"Balanced Accuracy\": cv_results[\"test_balanced_acc\"].mean(),\n",
    "    }\n",
    "\n",
    "results_df = pd.DataFrame(results).T\n",
    "print(\"\\nCross-Validation Results:\")\n",
    "print(results_df)\n",
    "\n",
    "# Visualization\n",
    "plt.figure(figsize=(18, 6))\n",
    "for i, metric in enumerate(results_df.columns):\n",
    "    ax = plt.subplot(1, 4, i + 1)\n",
    "    sns.barplot(x=results_df.index, y=results_df[metric], ax=ax)\n",
    "    ax.set_title(f\"Model Comparison - {metric}\")\n",
    "    ax.set_ylabel(metric)\n",
    "    ax.set_xlabel(\"Models\")\n",
    "    for j, v in enumerate(results_df[metric]):\n",
    "        ax.text(j, v + 0.005, f\"{v:.3f}\", ha=\"center\", va=\"bottom\")\n",
    "plt.tight_layout()\n",
    "plt.savefig(\"figures/model_comparison.png\")\n",
    "plt.close()\n",
    "\n",
    "\n",
    "# ============================\n",
    "# 3. Final Model (Logistic Regression with PCA)\n",
    "# ============================\n",
    "pipeline = Pipeline(\n",
    "    steps=[\n",
    "        (\"preprocessor\", preprocessor),\n",
    "        (\"model\", LogisticRegression(penalty=\"l2\", C=0.01, max_iter=1000)),\n",
    "    ]\n",
    ")\n",
    "pipeline.fit(X_train, y_train)\n",
    "\n",
    "# Transform data for SHAP\n",
    "X_train_transformed = pipeline.named_steps[\"preprocessor\"].transform(X_train)\n",
    "X_test_transformed = pipeline.named_steps[\"preprocessor\"].transform(X_test)\n",
    "\n",
    "print(f\"Train transformed shape: {X_train_transformed.shape}\")\n",
    "print(f\"Test transformed shape: {X_test_transformed.shape}\")\n",
    "\n",
    "\n",
    "# ============================\n",
    "# 4. Model Interpretation (SHAP)\n",
    "# ============================\n",
    "explainer = shap.LinearExplainer(pipeline.named_steps[\"model\"], X_train_transformed)\n",
    "shap_values = explainer(X_train_transformed)\n",
    "\n",
    "shap.summary_plot(\n",
    "    shap_values,\n",
    "    X_train_transformed,\n",
    "    feature_names=X.columns,\n",
    "    plot_type=\"bar\",\n",
    "    show=False,\n",
    ")\n",
    "plt.savefig(\"figures/shap_summary.png\")\n",
    "plt.close()\n",
    "\n",
    "# 🔎 Observations:\n",
    "# - SHAP highlights the most predictive genes across PCA-reduced space.\n",
    "# - Interpretation easier when using VarianceThreshold (original features).\n",
    "# - Best accuracy achieved with PCA → tradeoff between interpretability and performance.\n",
    "\n",
    "\n",
    "# ============================\n",
    "# 5. Evaluation on Test Set\n",
    "# ============================\n",
    "y_pred = pipeline.predict(X_test)\n",
    "\n",
    "print(\"\\nTest Set Metrics\")\n",
    "print(f\"F1 Macro: {f1_score(y_test, y_pred, average='macro'):.3f}\")\n",
    "print(f\"F1 Weighted: {f1_score(y_test, y_pred, average='weighted'):.3f}\")\n",
    "print(f\"Recall Macro: {recall_score(y_test, y_pred, average='macro'):.3f}\")\n",
    "print(f\"Balanced Accuracy: {balanced_accuracy_score(y_test, y_pred):.3f}\")\n",
    "\n",
    "print(\"\\nClassification Report:\")\n",
    "print(\n",
    "    classification_report(\n",
    "        y_test, y_pred, target_names=pipeline.named_steps[\"model\"].classes_\n",
    "    )\n",
    ")\n",
    "\n",
    "\n",
    "# ============================\n",
    "# 6. Cross-Validation Results (Reference with PCA=0.8)\n",
    "# ============================\n",
    "# Logistic Regression  → F1 Macro = 1.000\n",
    "# Random Forest        → F1 Macro ≈ 0.982\n",
    "# XGBoost              → F1 Macro ≈ 0.970\n",
    "# SVC                  → F1 Macro ≈ 0.991\n",
    "# LightGBM             → F1 Macro ≈ 0.980\n",
    "# CatBoost             → F1 Macro ≈ 0.978\n",
    "#\n",
    "# 🔎 Notes:\n",
    "# - Logistic Regression with PCA + L2 regularization achieves perfect separation (F1=1.0).\n",
    "# - Tree-based models slightly below LR, but still excellent (>0.97).\n",
    "# - PCA boosts generalization by reducing noise and multicollinearity.\n",
    "# - Best performance: Logistic Regression (interpretable & high accuracy)."
   ]
  },
  {
   "cell_type": "code",
   "execution_count": 8,
   "id": "78cae436",
   "metadata": {},
   "outputs": [
    {
     "name": "stdout",
     "output_type": "stream",
     "text": [
      "Conserved Genes after VarianceThreshold: 10234\n",
      "Number of selected genes: 10234\n",
      "Shape of SHAP values (aggregated): (10234, 5)\n",
      "Top 100 genes saved to top_100_genes_shap.csv\n"
     ]
    },
    {
     "name": "stderr",
     "output_type": "stream",
     "text": [
      "/var/folders/db/5zyr74rj7fn21wgcyltjd3440000gn/T/ipykernel_9585/1439429044.py:56: FutureWarning:\n",
      "\n",
      "The NumPy global RNG was seeded by calling `np.random.seed`. In a future version this function will no longer use the global RNG. Pass `rng` explicitly to opt-in to the new behaviour and silence this warning.\n",
      "\n",
      "/opt/homebrew/Caskroom/miniconda/base/envs/ds_elite/lib/python3.11/site-packages/shap/plots/_beeswarm.py:726: FutureWarning:\n",
      "\n",
      "The NumPy global RNG was seeded by calling `np.random.seed`. In a future version this function will no longer use the global RNG. Pass `rng` explicitly to opt-in to the new behaviour and silence this warning.\n",
      "\n",
      "/opt/homebrew/Caskroom/miniconda/base/envs/ds_elite/lib/python3.11/site-packages/shap/plots/_beeswarm.py:746: FutureWarning:\n",
      "\n",
      "The NumPy global RNG was seeded by calling `np.random.seed`. In a future version this function will no longer use the global RNG. Pass `rng` explicitly to opt-in to the new behaviour and silence this warning.\n",
      "\n",
      "/opt/homebrew/Caskroom/miniconda/base/envs/ds_elite/lib/python3.11/site-packages/shap/plots/_beeswarm.py:746: FutureWarning:\n",
      "\n",
      "The NumPy global RNG was seeded by calling `np.random.seed`. In a future version this function will no longer use the global RNG. Pass `rng` explicitly to opt-in to the new behaviour and silence this warning.\n",
      "\n",
      "/opt/homebrew/Caskroom/miniconda/base/envs/ds_elite/lib/python3.11/site-packages/shap/plots/_beeswarm.py:746: FutureWarning:\n",
      "\n",
      "The NumPy global RNG was seeded by calling `np.random.seed`. In a future version this function will no longer use the global RNG. Pass `rng` explicitly to opt-in to the new behaviour and silence this warning.\n",
      "\n",
      "/opt/homebrew/Caskroom/miniconda/base/envs/ds_elite/lib/python3.11/site-packages/shap/plots/_beeswarm.py:746: FutureWarning:\n",
      "\n",
      "The NumPy global RNG was seeded by calling `np.random.seed`. In a future version this function will no longer use the global RNG. Pass `rng` explicitly to opt-in to the new behaviour and silence this warning.\n",
      "\n"
     ]
    },
    {
     "data": {
      "text/plain": [
       "<Figure size 640x480 with 0 Axes>"
      ]
     },
     "metadata": {},
     "output_type": "display_data"
    }
   ],
   "source": [
    "# Gene Expression Cancer RNA-Seq - Top Gene Selection with SHAP\n",
    "# -------------------------------------------------------------\n",
    "# Goal: Select most predictive genes using VarianceThreshold + RandomForest + SHAP.\n",
    "\n",
    "# ============================\n",
    "# 1. Feature Selection (Variance Threshold)\n",
    "# ============================\n",
    "selector = VarianceThreshold(threshold=0.8)\n",
    "X_train_var = selector.fit_transform(X_train)\n",
    "X_test_var = selector.transform(X_test)\n",
    "\n",
    "selected_genes = X.columns[selector.get_support()]\n",
    "print(f\"Conserved Genes after VarianceThreshold: {len(selected_genes)}\")\n",
    "\n",
    "# 🔎 Observations:\n",
    "# - Filters out low-variance genes (uninformative across samples).\n",
    "# - Reduced feature space significantly for downstream interpretation.\n",
    "\n",
    "\n",
    "# ============================\n",
    "# 2. Train Random Forest\n",
    "# ============================\n",
    "rf = RandomForestClassifier(random_state=42, n_jobs=-1)\n",
    "rf.fit(X_train_var, y_train)\n",
    "\n",
    "\n",
    "# ============================\n",
    "# 3. SHAP Importance\n",
    "# ============================\n",
    "explainer = shap.TreeExplainer(rf)\n",
    "shap_values = explainer.shap_values(X_train_var)\n",
    "\n",
    "if isinstance(shap_values, list):  # multiclass output\n",
    "    shap_abs_mean = np.mean([np.abs(sv).mean(axis=0) for sv in shap_values], axis=0)\n",
    "else:\n",
    "    shap_abs_mean = np.abs(shap_values).mean(axis=0)\n",
    "\n",
    "print(\"Number of selected genes:\", len(selected_genes))\n",
    "print(\"Shape of SHAP values (aggregated):\", shap_abs_mean.shape)\n",
    "\n",
    "# Compute mean absolute SHAP value per gene\n",
    "shap_abs_mean_per_gene = shap_abs_mean.mean(axis=1)\n",
    "\n",
    "top_genes_df = pd.DataFrame(\n",
    "    {\"Gene\": selected_genes, \"SHAP Value\": shap_abs_mean_per_gene}\n",
    ").sort_values(by=\"SHAP Value\", ascending=False)\n",
    "\n",
    "# Save Top 100 genes\n",
    "top_genes_df.head(100).to_csv(\"top_100_genes_shap.csv\", index=False)\n",
    "print(\"Top 100 genes saved to top_100_genes_shap.csv\")\n",
    "\n",
    "\n",
    "# ============================\n",
    "# 4. SHAP Summary Plot\n",
    "# ============================\n",
    "shap.summary_plot(shap_values, feature_names=selected_genes, show=False)\n",
    "plt.savefig(\"figures/shap_top_genes_summary.png\")\n",
    "plt.close()\n",
    "\n",
    "# 🔎 Observations:\n",
    "# - SHAP identifies the **most predictive genes** for cancer subtype classification.\n",
    "# - Top genes contribute ~0.5–1.5% each → classification relies on multi-gene signatures.\n",
    "# - Exported CSV provides a **gene signature of top 100 predictors**,\n",
    "#   useful for downstream bioinformatics interpretation (e.g., pathway enrichment)."
   ]
  }
 ],
 "metadata": {
  "kernelspec": {
   "display_name": "ds_elite",
   "language": "python",
   "name": "python3"
  },
  "language_info": {
   "codemirror_mode": {
    "name": "ipython",
    "version": 3
   },
   "file_extension": ".py",
   "mimetype": "text/x-python",
   "name": "python",
   "nbconvert_exporter": "python",
   "pygments_lexer": "ipython3",
   "version": "3.11.9"
  }
 },
 "nbformat": 4,
 "nbformat_minor": 5
}
